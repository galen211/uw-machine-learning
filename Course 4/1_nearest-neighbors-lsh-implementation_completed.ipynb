{
 "cells": [
  {
   "cell_type": "markdown",
   "metadata": {},
   "source": [
    "# Locality Sensitive Hashing"
   ]
  },
  {
   "cell_type": "markdown",
   "metadata": {},
   "source": [
    "Locality Sensitive Hashing (LSH) provides for a fast, efficient approximate nearest neighbor search. The algorithm scales well with respect to the number of data points as well as dimensions.\n",
    "\n",
    "In this assignment, you will\n",
    "* Implement the LSH algorithm for approximate nearest neighbor search\n",
    "* Examine the accuracy for different documents by comparing against brute force search, and also contrast runtimes\n",
    "* Explore the role of the algorithm’s tuning parameters in the accuracy of the method"
   ]
  },
  {
   "cell_type": "markdown",
   "metadata": {},
   "source": [
    "**Note to Amazon EC2 users**: To conserve memory, make sure to stop all the other notebooks before running this notebook."
   ]
  },
  {
   "cell_type": "markdown",
   "metadata": {},
   "source": [
    "## Import necessary packages"
   ]
  },
  {
   "cell_type": "markdown",
   "metadata": {},
   "source": [
    "The following code block will check if you have the correct version of GraphLab Create. Any version later than 1.8.5 will do. To upgrade, read [this page](https://turi.com/download/upgrade-graphlab-create.html)."
   ]
  },
  {
   "cell_type": "code",
   "execution_count": 1,
   "metadata": {
    "collapsed": false
   },
   "outputs": [
    {
     "name": "stderr",
     "output_type": "stream",
     "text": [
      "[INFO] graphlab.cython.cy_server: GraphLab Create v2.1 started. Logging: /tmp/graphlab_server_1484359794.log\n"
     ]
    },
    {
     "name": "stdout",
     "output_type": "stream",
     "text": [
      "This non-commercial license of GraphLab Create for academic use is assigned to gsimmons17@gsb.columbia.edu and will expire on December 07, 2017.\n"
     ]
    }
   ],
   "source": [
    "import numpy as np\n",
    "import graphlab\n",
    "from scipy.sparse import csr_matrix\n",
    "from sklearn.metrics.pairwise import pairwise_distances\n",
    "import time\n",
    "from copy import copy\n",
    "import matplotlib.pyplot as plt\n",
    "%matplotlib inline\n",
    "\n",
    "'''Check GraphLab Create version'''\n",
    "from distutils.version import StrictVersion\n",
    "assert (StrictVersion(graphlab.version) >= StrictVersion('1.8.5')), 'GraphLab Create must be version 1.8.5 or later.'\n",
    "\n",
    "'''compute norm of a sparse vector\n",
    "   Thanks to: Jaiyam Sharma'''\n",
    "def norm(x):\n",
    "    sum_sq=x.dot(x.T)\n",
    "    norm=np.sqrt(sum_sq)\n",
    "    return(norm)"
   ]
  },
  {
   "cell_type": "markdown",
   "metadata": {
    "collapsed": false
   },
   "source": [
    "## Load in the Wikipedia dataset"
   ]
  },
  {
   "cell_type": "code",
   "execution_count": 2,
   "metadata": {
    "collapsed": false
   },
   "outputs": [],
   "source": [
    "wiki = graphlab.SFrame('people_wiki.gl/')"
   ]
  },
  {
   "cell_type": "markdown",
   "metadata": {},
   "source": [
    "For this assignment, let us assign a unique ID to each document."
   ]
  },
  {
   "cell_type": "code",
   "execution_count": 3,
   "metadata": {
    "collapsed": false
   },
   "outputs": [
    {
     "data": {
      "text/html": [
       "<div style=\"max-height:1000px;max-width:1500px;overflow:auto;\"><table frame=\"box\" rules=\"cols\">\n",
       "    <tr>\n",
       "        <th style=\"padding-left: 1em; padding-right: 1em; text-align: center\">id</th>\n",
       "        <th style=\"padding-left: 1em; padding-right: 1em; text-align: center\">URI</th>\n",
       "        <th style=\"padding-left: 1em; padding-right: 1em; text-align: center\">name</th>\n",
       "        <th style=\"padding-left: 1em; padding-right: 1em; text-align: center\">text</th>\n",
       "    </tr>\n",
       "    <tr>\n",
       "        <td style=\"padding-left: 1em; padding-right: 1em; text-align: center; vertical-align: top\">0</td>\n",
       "        <td style=\"padding-left: 1em; padding-right: 1em; text-align: center; vertical-align: top\">&lt;http://dbpedia.org/resou<br>rce/Digby_Morrell&gt; ...</td>\n",
       "        <td style=\"padding-left: 1em; padding-right: 1em; text-align: center; vertical-align: top\">Digby Morrell</td>\n",
       "        <td style=\"padding-left: 1em; padding-right: 1em; text-align: center; vertical-align: top\">digby morrell born 10<br>october 1979 is a former ...</td>\n",
       "    </tr>\n",
       "    <tr>\n",
       "        <td style=\"padding-left: 1em; padding-right: 1em; text-align: center; vertical-align: top\">1</td>\n",
       "        <td style=\"padding-left: 1em; padding-right: 1em; text-align: center; vertical-align: top\">&lt;http://dbpedia.org/resou<br>rce/Alfred_J._Lewy&gt; ...</td>\n",
       "        <td style=\"padding-left: 1em; padding-right: 1em; text-align: center; vertical-align: top\">Alfred J. Lewy</td>\n",
       "        <td style=\"padding-left: 1em; padding-right: 1em; text-align: center; vertical-align: top\">alfred j lewy aka sandy<br>lewy graduated from ...</td>\n",
       "    </tr>\n",
       "    <tr>\n",
       "        <td style=\"padding-left: 1em; padding-right: 1em; text-align: center; vertical-align: top\">2</td>\n",
       "        <td style=\"padding-left: 1em; padding-right: 1em; text-align: center; vertical-align: top\">&lt;http://dbpedia.org/resou<br>rce/Harpdog_Brown&gt; ...</td>\n",
       "        <td style=\"padding-left: 1em; padding-right: 1em; text-align: center; vertical-align: top\">Harpdog Brown</td>\n",
       "        <td style=\"padding-left: 1em; padding-right: 1em; text-align: center; vertical-align: top\">harpdog brown is a singer<br>and harmonica player who ...</td>\n",
       "    </tr>\n",
       "    <tr>\n",
       "        <td style=\"padding-left: 1em; padding-right: 1em; text-align: center; vertical-align: top\">3</td>\n",
       "        <td style=\"padding-left: 1em; padding-right: 1em; text-align: center; vertical-align: top\">&lt;http://dbpedia.org/resou<br>rce/Franz_Rottensteiner&gt; ...</td>\n",
       "        <td style=\"padding-left: 1em; padding-right: 1em; text-align: center; vertical-align: top\">Franz Rottensteiner</td>\n",
       "        <td style=\"padding-left: 1em; padding-right: 1em; text-align: center; vertical-align: top\">franz rottensteiner born<br>in waidmannsfeld lower ...</td>\n",
       "    </tr>\n",
       "    <tr>\n",
       "        <td style=\"padding-left: 1em; padding-right: 1em; text-align: center; vertical-align: top\">4</td>\n",
       "        <td style=\"padding-left: 1em; padding-right: 1em; text-align: center; vertical-align: top\">&lt;http://dbpedia.org/resou<br>rce/G-Enka&gt; ...</td>\n",
       "        <td style=\"padding-left: 1em; padding-right: 1em; text-align: center; vertical-align: top\">G-Enka</td>\n",
       "        <td style=\"padding-left: 1em; padding-right: 1em; text-align: center; vertical-align: top\">henry krvits born 30<br>december 1974 in tallinn ...</td>\n",
       "    </tr>\n",
       "    <tr>\n",
       "        <td style=\"padding-left: 1em; padding-right: 1em; text-align: center; vertical-align: top\">5</td>\n",
       "        <td style=\"padding-left: 1em; padding-right: 1em; text-align: center; vertical-align: top\">&lt;http://dbpedia.org/resou<br>rce/Sam_Henderson&gt; ...</td>\n",
       "        <td style=\"padding-left: 1em; padding-right: 1em; text-align: center; vertical-align: top\">Sam Henderson</td>\n",
       "        <td style=\"padding-left: 1em; padding-right: 1em; text-align: center; vertical-align: top\">sam henderson born<br>october 18 1969 is an ...</td>\n",
       "    </tr>\n",
       "    <tr>\n",
       "        <td style=\"padding-left: 1em; padding-right: 1em; text-align: center; vertical-align: top\">6</td>\n",
       "        <td style=\"padding-left: 1em; padding-right: 1em; text-align: center; vertical-align: top\">&lt;http://dbpedia.org/resou<br>rce/Aaron_LaCrate&gt; ...</td>\n",
       "        <td style=\"padding-left: 1em; padding-right: 1em; text-align: center; vertical-align: top\">Aaron LaCrate</td>\n",
       "        <td style=\"padding-left: 1em; padding-right: 1em; text-align: center; vertical-align: top\">aaron lacrate is an<br>american music producer ...</td>\n",
       "    </tr>\n",
       "    <tr>\n",
       "        <td style=\"padding-left: 1em; padding-right: 1em; text-align: center; vertical-align: top\">7</td>\n",
       "        <td style=\"padding-left: 1em; padding-right: 1em; text-align: center; vertical-align: top\">&lt;http://dbpedia.org/resou<br>rce/Trevor_Ferguson&gt; ...</td>\n",
       "        <td style=\"padding-left: 1em; padding-right: 1em; text-align: center; vertical-align: top\">Trevor Ferguson</td>\n",
       "        <td style=\"padding-left: 1em; padding-right: 1em; text-align: center; vertical-align: top\">trevor ferguson aka john<br>farrow born 11 november ...</td>\n",
       "    </tr>\n",
       "    <tr>\n",
       "        <td style=\"padding-left: 1em; padding-right: 1em; text-align: center; vertical-align: top\">8</td>\n",
       "        <td style=\"padding-left: 1em; padding-right: 1em; text-align: center; vertical-align: top\">&lt;http://dbpedia.org/resou<br>rce/Grant_Nelson&gt; ...</td>\n",
       "        <td style=\"padding-left: 1em; padding-right: 1em; text-align: center; vertical-align: top\">Grant Nelson</td>\n",
       "        <td style=\"padding-left: 1em; padding-right: 1em; text-align: center; vertical-align: top\">grant nelson born 27<br>april 1971 in london  ...</td>\n",
       "    </tr>\n",
       "    <tr>\n",
       "        <td style=\"padding-left: 1em; padding-right: 1em; text-align: center; vertical-align: top\">9</td>\n",
       "        <td style=\"padding-left: 1em; padding-right: 1em; text-align: center; vertical-align: top\">&lt;http://dbpedia.org/resou<br>rce/Cathy_Caruth&gt; ...</td>\n",
       "        <td style=\"padding-left: 1em; padding-right: 1em; text-align: center; vertical-align: top\">Cathy Caruth</td>\n",
       "        <td style=\"padding-left: 1em; padding-right: 1em; text-align: center; vertical-align: top\">cathy caruth born 1955 is<br>frank h t rhodes ...</td>\n",
       "    </tr>\n",
       "</table>\n",
       "[59071 rows x 4 columns]<br/>Note: Only the head of the SFrame is printed.<br/>You can use print_rows(num_rows=m, num_columns=n) to print more rows and columns.\n",
       "</div>"
      ],
      "text/plain": [
       "Columns:\n",
       "\tid\tint\n",
       "\tURI\tstr\n",
       "\tname\tstr\n",
       "\ttext\tstr\n",
       "\n",
       "Rows: 59071\n",
       "\n",
       "Data:\n",
       "+----+-------------------------------+---------------------+\n",
       "| id |              URI              |         name        |\n",
       "+----+-------------------------------+---------------------+\n",
       "| 0  | <http://dbpedia.org/resour... |    Digby Morrell    |\n",
       "| 1  | <http://dbpedia.org/resour... |    Alfred J. Lewy   |\n",
       "| 2  | <http://dbpedia.org/resour... |    Harpdog Brown    |\n",
       "| 3  | <http://dbpedia.org/resour... | Franz Rottensteiner |\n",
       "| 4  | <http://dbpedia.org/resour... |        G-Enka       |\n",
       "| 5  | <http://dbpedia.org/resour... |    Sam Henderson    |\n",
       "| 6  | <http://dbpedia.org/resour... |    Aaron LaCrate    |\n",
       "| 7  | <http://dbpedia.org/resour... |   Trevor Ferguson   |\n",
       "| 8  | <http://dbpedia.org/resour... |     Grant Nelson    |\n",
       "| 9  | <http://dbpedia.org/resour... |     Cathy Caruth    |\n",
       "+----+-------------------------------+---------------------+\n",
       "+-------------------------------+\n",
       "|              text             |\n",
       "+-------------------------------+\n",
       "| digby morrell born 10 octo... |\n",
       "| alfred j lewy aka sandy le... |\n",
       "| harpdog brown is a singer ... |\n",
       "| franz rottensteiner born i... |\n",
       "| henry krvits born 30 decem... |\n",
       "| sam henderson born october... |\n",
       "| aaron lacrate is an americ... |\n",
       "| trevor ferguson aka john f... |\n",
       "| grant nelson born 27 april... |\n",
       "| cathy caruth born 1955 is ... |\n",
       "+-------------------------------+\n",
       "[59071 rows x 4 columns]\n",
       "Note: Only the head of the SFrame is printed.\n",
       "You can use print_rows(num_rows=m, num_columns=n) to print more rows and columns."
      ]
     },
     "execution_count": 3,
     "metadata": {},
     "output_type": "execute_result"
    }
   ],
   "source": [
    "wiki = wiki.add_row_number()\n",
    "wiki"
   ]
  },
  {
   "cell_type": "markdown",
   "metadata": {},
   "source": [
    "## Extract TF-IDF matrix"
   ]
  },
  {
   "cell_type": "markdown",
   "metadata": {},
   "source": [
    "We first use GraphLab Create to compute a TF-IDF representation for each document."
   ]
  },
  {
   "cell_type": "code",
   "execution_count": 4,
   "metadata": {
    "collapsed": false
   },
   "outputs": [
    {
     "data": {
      "text/html": [
       "<div style=\"max-height:1000px;max-width:1500px;overflow:auto;\"><table frame=\"box\" rules=\"cols\">\n",
       "    <tr>\n",
       "        <th style=\"padding-left: 1em; padding-right: 1em; text-align: center\">id</th>\n",
       "        <th style=\"padding-left: 1em; padding-right: 1em; text-align: center\">URI</th>\n",
       "        <th style=\"padding-left: 1em; padding-right: 1em; text-align: center\">name</th>\n",
       "        <th style=\"padding-left: 1em; padding-right: 1em; text-align: center\">text</th>\n",
       "        <th style=\"padding-left: 1em; padding-right: 1em; text-align: center\">tf_idf</th>\n",
       "    </tr>\n",
       "    <tr>\n",
       "        <td style=\"padding-left: 1em; padding-right: 1em; text-align: center; vertical-align: top\">0</td>\n",
       "        <td style=\"padding-left: 1em; padding-right: 1em; text-align: center; vertical-align: top\">&lt;http://dbpedia.org/resou<br>rce/Digby_Morrell&gt; ...</td>\n",
       "        <td style=\"padding-left: 1em; padding-right: 1em; text-align: center; vertical-align: top\">Digby Morrell</td>\n",
       "        <td style=\"padding-left: 1em; padding-right: 1em; text-align: center; vertical-align: top\">digby morrell born 10<br>october 1979 is a former ...</td>\n",
       "        <td style=\"padding-left: 1em; padding-right: 1em; text-align: center; vertical-align: top\">{'selection':<br>3.836578553093086, ...</td>\n",
       "    </tr>\n",
       "    <tr>\n",
       "        <td style=\"padding-left: 1em; padding-right: 1em; text-align: center; vertical-align: top\">1</td>\n",
       "        <td style=\"padding-left: 1em; padding-right: 1em; text-align: center; vertical-align: top\">&lt;http://dbpedia.org/resou<br>rce/Alfred_J._Lewy&gt; ...</td>\n",
       "        <td style=\"padding-left: 1em; padding-right: 1em; text-align: center; vertical-align: top\">Alfred J. Lewy</td>\n",
       "        <td style=\"padding-left: 1em; padding-right: 1em; text-align: center; vertical-align: top\">alfred j lewy aka sandy<br>lewy graduated from ...</td>\n",
       "        <td style=\"padding-left: 1em; padding-right: 1em; text-align: center; vertical-align: top\">{'precise':<br>6.44320060695519, ...</td>\n",
       "    </tr>\n",
       "    <tr>\n",
       "        <td style=\"padding-left: 1em; padding-right: 1em; text-align: center; vertical-align: top\">2</td>\n",
       "        <td style=\"padding-left: 1em; padding-right: 1em; text-align: center; vertical-align: top\">&lt;http://dbpedia.org/resou<br>rce/Harpdog_Brown&gt; ...</td>\n",
       "        <td style=\"padding-left: 1em; padding-right: 1em; text-align: center; vertical-align: top\">Harpdog Brown</td>\n",
       "        <td style=\"padding-left: 1em; padding-right: 1em; text-align: center; vertical-align: top\">harpdog brown is a singer<br>and harmonica player who ...</td>\n",
       "        <td style=\"padding-left: 1em; padding-right: 1em; text-align: center; vertical-align: top\">{'just':<br>2.7007299687108643, ...</td>\n",
       "    </tr>\n",
       "    <tr>\n",
       "        <td style=\"padding-left: 1em; padding-right: 1em; text-align: center; vertical-align: top\">3</td>\n",
       "        <td style=\"padding-left: 1em; padding-right: 1em; text-align: center; vertical-align: top\">&lt;http://dbpedia.org/resou<br>rce/Franz_Rottensteiner&gt; ...</td>\n",
       "        <td style=\"padding-left: 1em; padding-right: 1em; text-align: center; vertical-align: top\">Franz Rottensteiner</td>\n",
       "        <td style=\"padding-left: 1em; padding-right: 1em; text-align: center; vertical-align: top\">franz rottensteiner born<br>in waidmannsfeld lower ...</td>\n",
       "        <td style=\"padding-left: 1em; padding-right: 1em; text-align: center; vertical-align: top\">{'all':<br>1.6431112434912472, ...</td>\n",
       "    </tr>\n",
       "    <tr>\n",
       "        <td style=\"padding-left: 1em; padding-right: 1em; text-align: center; vertical-align: top\">4</td>\n",
       "        <td style=\"padding-left: 1em; padding-right: 1em; text-align: center; vertical-align: top\">&lt;http://dbpedia.org/resou<br>rce/G-Enka&gt; ...</td>\n",
       "        <td style=\"padding-left: 1em; padding-right: 1em; text-align: center; vertical-align: top\">G-Enka</td>\n",
       "        <td style=\"padding-left: 1em; padding-right: 1em; text-align: center; vertical-align: top\">henry krvits born 30<br>december 1974 in tallinn ...</td>\n",
       "        <td style=\"padding-left: 1em; padding-right: 1em; text-align: center; vertical-align: top\">{'they':<br>1.8993401178193898, ...</td>\n",
       "    </tr>\n",
       "    <tr>\n",
       "        <td style=\"padding-left: 1em; padding-right: 1em; text-align: center; vertical-align: top\">5</td>\n",
       "        <td style=\"padding-left: 1em; padding-right: 1em; text-align: center; vertical-align: top\">&lt;http://dbpedia.org/resou<br>rce/Sam_Henderson&gt; ...</td>\n",
       "        <td style=\"padding-left: 1em; padding-right: 1em; text-align: center; vertical-align: top\">Sam Henderson</td>\n",
       "        <td style=\"padding-left: 1em; padding-right: 1em; text-align: center; vertical-align: top\">sam henderson born<br>october 18 1969 is an ...</td>\n",
       "        <td style=\"padding-left: 1em; padding-right: 1em; text-align: center; vertical-align: top\">{'currently':<br>1.637088969126014, ...</td>\n",
       "    </tr>\n",
       "    <tr>\n",
       "        <td style=\"padding-left: 1em; padding-right: 1em; text-align: center; vertical-align: top\">6</td>\n",
       "        <td style=\"padding-left: 1em; padding-right: 1em; text-align: center; vertical-align: top\">&lt;http://dbpedia.org/resou<br>rce/Aaron_LaCrate&gt; ...</td>\n",
       "        <td style=\"padding-left: 1em; padding-right: 1em; text-align: center; vertical-align: top\">Aaron LaCrate</td>\n",
       "        <td style=\"padding-left: 1em; padding-right: 1em; text-align: center; vertical-align: top\">aaron lacrate is an<br>american music producer ...</td>\n",
       "        <td style=\"padding-left: 1em; padding-right: 1em; text-align: center; vertical-align: top\">{'exclusive':<br>10.455187230695827, ...</td>\n",
       "    </tr>\n",
       "    <tr>\n",
       "        <td style=\"padding-left: 1em; padding-right: 1em; text-align: center; vertical-align: top\">7</td>\n",
       "        <td style=\"padding-left: 1em; padding-right: 1em; text-align: center; vertical-align: top\">&lt;http://dbpedia.org/resou<br>rce/Trevor_Ferguson&gt; ...</td>\n",
       "        <td style=\"padding-left: 1em; padding-right: 1em; text-align: center; vertical-align: top\">Trevor Ferguson</td>\n",
       "        <td style=\"padding-left: 1em; padding-right: 1em; text-align: center; vertical-align: top\">trevor ferguson aka john<br>farrow born 11 november ...</td>\n",
       "        <td style=\"padding-left: 1em; padding-right: 1em; text-align: center; vertical-align: top\">{'taxi':<br>6.0520214560945025, ...</td>\n",
       "    </tr>\n",
       "    <tr>\n",
       "        <td style=\"padding-left: 1em; padding-right: 1em; text-align: center; vertical-align: top\">8</td>\n",
       "        <td style=\"padding-left: 1em; padding-right: 1em; text-align: center; vertical-align: top\">&lt;http://dbpedia.org/resou<br>rce/Grant_Nelson&gt; ...</td>\n",
       "        <td style=\"padding-left: 1em; padding-right: 1em; text-align: center; vertical-align: top\">Grant Nelson</td>\n",
       "        <td style=\"padding-left: 1em; padding-right: 1em; text-align: center; vertical-align: top\">grant nelson born 27<br>april 1971 in london  ...</td>\n",
       "        <td style=\"padding-left: 1em; padding-right: 1em; text-align: center; vertical-align: top\">{'houston':<br>3.935505942157149, ...</td>\n",
       "    </tr>\n",
       "    <tr>\n",
       "        <td style=\"padding-left: 1em; padding-right: 1em; text-align: center; vertical-align: top\">9</td>\n",
       "        <td style=\"padding-left: 1em; padding-right: 1em; text-align: center; vertical-align: top\">&lt;http://dbpedia.org/resou<br>rce/Cathy_Caruth&gt; ...</td>\n",
       "        <td style=\"padding-left: 1em; padding-right: 1em; text-align: center; vertical-align: top\">Cathy Caruth</td>\n",
       "        <td style=\"padding-left: 1em; padding-right: 1em; text-align: center; vertical-align: top\">cathy caruth born 1955 is<br>frank h t rhodes ...</td>\n",
       "        <td style=\"padding-left: 1em; padding-right: 1em; text-align: center; vertical-align: top\">{'phenomenon':<br>5.750053426395245, ...</td>\n",
       "    </tr>\n",
       "</table>\n",
       "[59071 rows x 5 columns]<br/>Note: Only the head of the SFrame is printed.<br/>You can use print_rows(num_rows=m, num_columns=n) to print more rows and columns.\n",
       "</div>"
      ],
      "text/plain": [
       "Columns:\n",
       "\tid\tint\n",
       "\tURI\tstr\n",
       "\tname\tstr\n",
       "\ttext\tstr\n",
       "\ttf_idf\tdict\n",
       "\n",
       "Rows: 59071\n",
       "\n",
       "Data:\n",
       "+----+-------------------------------+---------------------+\n",
       "| id |              URI              |         name        |\n",
       "+----+-------------------------------+---------------------+\n",
       "| 0  | <http://dbpedia.org/resour... |    Digby Morrell    |\n",
       "| 1  | <http://dbpedia.org/resour... |    Alfred J. Lewy   |\n",
       "| 2  | <http://dbpedia.org/resour... |    Harpdog Brown    |\n",
       "| 3  | <http://dbpedia.org/resour... | Franz Rottensteiner |\n",
       "| 4  | <http://dbpedia.org/resour... |        G-Enka       |\n",
       "| 5  | <http://dbpedia.org/resour... |    Sam Henderson    |\n",
       "| 6  | <http://dbpedia.org/resour... |    Aaron LaCrate    |\n",
       "| 7  | <http://dbpedia.org/resour... |   Trevor Ferguson   |\n",
       "| 8  | <http://dbpedia.org/resour... |     Grant Nelson    |\n",
       "| 9  | <http://dbpedia.org/resour... |     Cathy Caruth    |\n",
       "+----+-------------------------------+---------------------+\n",
       "+-------------------------------+-------------------------------+\n",
       "|              text             |             tf_idf            |\n",
       "+-------------------------------+-------------------------------+\n",
       "| digby morrell born 10 octo... | {'selection': 3.8365785530... |\n",
       "| alfred j lewy aka sandy le... | {'precise': 6.443200606955... |\n",
       "| harpdog brown is a singer ... | {'just': 2.700729968710864... |\n",
       "| franz rottensteiner born i... | {'all': 1.6431112434912472... |\n",
       "| henry krvits born 30 decem... | {'they': 1.899340117819389... |\n",
       "| sam henderson born october... | {'currently': 1.6370889691... |\n",
       "| aaron lacrate is an americ... | {'exclusive': 10.455187230... |\n",
       "| trevor ferguson aka john f... | {'taxi': 6.052021456094502... |\n",
       "| grant nelson born 27 april... | {'houston': 3.935505942157... |\n",
       "| cathy caruth born 1955 is ... | {'phenomenon': 5.750053426... |\n",
       "+-------------------------------+-------------------------------+\n",
       "[59071 rows x 5 columns]\n",
       "Note: Only the head of the SFrame is printed.\n",
       "You can use print_rows(num_rows=m, num_columns=n) to print more rows and columns."
      ]
     },
     "execution_count": 4,
     "metadata": {},
     "output_type": "execute_result"
    }
   ],
   "source": [
    "wiki['tf_idf'] = graphlab.text_analytics.tf_idf(wiki['text'])\n",
    "wiki"
   ]
  },
  {
   "cell_type": "markdown",
   "metadata": {
    "collapsed": false
   },
   "source": [
    "For the remainder of the assignment, we will use sparse matrices. Sparse matrices are [matrices](https://en.wikipedia.org/wiki/Matrix_(mathematics%29 ) that have a small number of nonzero entries. A good data structure for sparse matrices would only store the nonzero entries to save space and speed up computation. SciPy provides a highly-optimized library for sparse matrices. Many matrix operations available for NumPy arrays are also available for SciPy sparse matrices.\n",
    "\n",
    "We first convert the TF-IDF column (in dictionary format) into the SciPy sparse matrix format."
   ]
  },
  {
   "cell_type": "code",
   "execution_count": 7,
   "metadata": {
    "collapsed": true
   },
   "outputs": [],
   "source": [
    "def sframe_to_scipy(column):\n",
    "    \"\"\" \n",
    "    Convert a dict-typed SArray into a SciPy sparse matrix.\n",
    "    \n",
    "    Returns\n",
    "    -------\n",
    "        mat : a SciPy sparse matrix where mat[i, j] is the value of word j for document i.\n",
    "        mapping : a dictionary where mapping[j] is the word whose values are in column j.\n",
    "    \"\"\"\n",
    "    # Create triples of (row_id, feature_id, count).\n",
    "    x = graphlab.SFrame({'X1':column})\n",
    "    \n",
    "    # 1. Add a row number.\n",
    "    x = x.add_row_number()\n",
    "    # 2. Stack will transform x to have a row for each unique (row, key) pair.\n",
    "    x = x.stack('X1', ['feature', 'value'])\n",
    "\n",
    "    # Map words into integers using a OneHotEncoder feature transformation.\n",
    "    f = graphlab.feature_engineering.OneHotEncoder(features=['feature'])\n",
    "\n",
    "    # We first fit the transformer using the above data.\n",
    "    f.fit(x)\n",
    "\n",
    "    # The transform method will add a new column that is the transformed version\n",
    "    # of the 'word' column.\n",
    "    x = f.transform(x)\n",
    "\n",
    "    # Get the feature mapping.\n",
    "    mapping = f['feature_encoding']\n",
    "\n",
    "    # Get the actual word id.\n",
    "    x['feature_id'] = x['encoded_features'].dict_keys().apply(lambda x: x[0])\n",
    "\n",
    "    # Create numpy arrays that contain the data for the sparse matrix.\n",
    "    i = np.array(x['id'])\n",
    "    j = np.array(x['feature_id'])\n",
    "    v = np.array(x['value'])\n",
    "    width = x['id'].max() + 1\n",
    "    height = x['feature_id'].max() + 1\n",
    "\n",
    "    # Create a sparse matrix.\n",
    "    mat = csr_matrix((v, (i, j)), shape=(width, height))\n",
    "\n",
    "    return mat, mapping"
   ]
  },
  {
   "cell_type": "markdown",
   "metadata": {},
   "source": [
    "The conversion should take a few minutes to complete."
   ]
  },
  {
   "cell_type": "code",
   "execution_count": 8,
   "metadata": {
    "collapsed": false
   },
   "outputs": [
    {
     "name": "stdout",
     "output_type": "stream",
     "text": [
      "75.8295750618\n"
     ]
    }
   ],
   "source": [
    "start=time.time()\n",
    "corpus, mapping = sframe_to_scipy(wiki['tf_idf'])\n",
    "end=time.time()\n",
    "print end-start"
   ]
  },
  {
   "cell_type": "code",
   "execution_count": 68,
   "metadata": {
    "collapsed": false
   },
   "outputs": [
    {
     "data": {
      "text/plain": [
       "(59071, 547979)"
      ]
     },
     "execution_count": 68,
     "metadata": {},
     "output_type": "execute_result"
    }
   ],
   "source": [
    "corpus.shape # i.e. 59071 documents with total of 547979 words"
   ]
  },
  {
   "cell_type": "code",
   "execution_count": 72,
   "metadata": {
    "collapsed": false
   },
   "outputs": [
    {
     "data": {
      "text/plain": [
       "588.44628252979578"
      ]
     },
     "execution_count": 72,
     "metadata": {},
     "output_type": "execute_result"
    }
   ],
   "source": [
    "corpus[0,:].sum()"
   ]
  },
  {
   "cell_type": "markdown",
   "metadata": {},
   "source": [
    "**Checkpoint**: The following code block should return 'Check passed correctly', indicating that your matrix contains TF-IDF values for 59071 documents and 547979 unique words.  Otherwise, it will return Error."
   ]
  },
  {
   "cell_type": "code",
   "execution_count": 9,
   "metadata": {
    "collapsed": false
   },
   "outputs": [
    {
     "name": "stdout",
     "output_type": "stream",
     "text": [
      "Check passed correctly!\n"
     ]
    }
   ],
   "source": [
    "assert corpus.shape == (59071, 547979)\n",
    "print 'Check passed correctly!'"
   ]
  },
  {
   "cell_type": "code",
   "execution_count": 11,
   "metadata": {
    "collapsed": false
   },
   "outputs": [
    {
     "data": {
      "text/plain": [
       "scipy.sparse.csr.csr_matrix"
      ]
     },
     "execution_count": 11,
     "metadata": {},
     "output_type": "execute_result"
    }
   ],
   "source": [
    "type(corpus)"
   ]
  },
  {
   "cell_type": "markdown",
   "metadata": {},
   "source": [
    "## Train an LSH model"
   ]
  },
  {
   "cell_type": "markdown",
   "metadata": {},
   "source": [
    "LSH performs an efficient neighbor search by randomly partitioning all reference data points into different bins. Today we will build a popular variant of LSH known as random binary projection, which approximates cosine distance. There are other variants we could use for other choices of distance metrics.\n",
    "\n",
    "The first step is to generate a collection of random vectors from the standard Gaussian distribution."
   ]
  },
  {
   "cell_type": "code",
   "execution_count": 12,
   "metadata": {
    "collapsed": true
   },
   "outputs": [],
   "source": [
    "def generate_random_vectors(num_vector, dim):\n",
    "    return np.random.randn(dim, num_vector)"
   ]
  },
  {
   "cell_type": "markdown",
   "metadata": {},
   "source": [
    "To visualize these Gaussian random vectors, let's look at an example in low-dimensions.  Below, we generate 3 random vectors each of dimension 5."
   ]
  },
  {
   "cell_type": "code",
   "execution_count": 13,
   "metadata": {
    "collapsed": false
   },
   "outputs": [
    {
     "data": {
      "text/plain": [
       "array([[ 1.76405235,  0.40015721,  0.97873798],\n",
       "       [ 2.2408932 ,  1.86755799, -0.97727788],\n",
       "       [ 0.95008842, -0.15135721, -0.10321885],\n",
       "       [ 0.4105985 ,  0.14404357,  1.45427351],\n",
       "       [ 0.76103773,  0.12167502,  0.44386323]])"
      ]
     },
     "execution_count": 13,
     "metadata": {},
     "output_type": "execute_result"
    }
   ],
   "source": [
    "# Generate 3 random vectors of dimension 5, arranged into a single 5 x 3 matrix.\n",
    "np.random.seed(0) # set seed=0 for consistent results\n",
    "generate_random_vectors(num_vector=3, dim=5)"
   ]
  },
  {
   "cell_type": "markdown",
   "metadata": {},
   "source": [
    "We now generate random vectors of the same dimensionality as our vocubulary size (547979).  Each vector can be used to compute one bit in the bin encoding.  We generate 16 vectors, leading to a 16-bit encoding of the bin index for each document."
   ]
  },
  {
   "cell_type": "code",
   "execution_count": 14,
   "metadata": {
    "collapsed": false
   },
   "outputs": [
    {
     "data": {
      "text/plain": [
       "(547979, 16)"
      ]
     },
     "execution_count": 14,
     "metadata": {},
     "output_type": "execute_result"
    }
   ],
   "source": [
    "# Generate 16 random vectors of dimension 547979\n",
    "np.random.seed(0)\n",
    "random_vectors = generate_random_vectors(num_vector=16, dim=547979)\n",
    "random_vectors.shape"
   ]
  },
  {
   "cell_type": "markdown",
   "metadata": {},
   "source": [
    "Next, we partition data points into bins. Instead of using explicit loops, we'd like to utilize matrix operations for greater efficiency. Let's walk through the construction step by step.\n",
    "\n",
    "We'd like to decide which bin document 0 should go. Since 16 random vectors were generated in the previous cell, we have 16 bits to represent the bin index. The first bit is given by the sign of the dot product between the first random vector and the document's TF-IDF vector."
   ]
  },
  {
   "cell_type": "code",
   "execution_count": 22,
   "metadata": {
    "collapsed": false
   },
   "outputs": [
    {
     "data": {
      "text/plain": [
       "array([ True], dtype=bool)"
      ]
     },
     "execution_count": 22,
     "metadata": {},
     "output_type": "execute_result"
    }
   ],
   "source": [
    "doc = corpus[0, :] # vector of tf-idf values for document 0\n",
    "doc.dot(random_vectors[:, 0]) >= 0 # True if positive sign; False if negative sign"
   ]
  },
  {
   "cell_type": "markdown",
   "metadata": {},
   "source": [
    "Similarly, the second bit is computed as the sign of the dot product between the second random vector and the document vector."
   ]
  },
  {
   "cell_type": "code",
   "execution_count": 23,
   "metadata": {
    "collapsed": false
   },
   "outputs": [
    {
     "data": {
      "text/plain": [
       "array([ True], dtype=bool)"
      ]
     },
     "execution_count": 23,
     "metadata": {},
     "output_type": "execute_result"
    }
   ],
   "source": [
    "doc.dot(random_vectors[:, 1]) >= 0 # True if positive sign; False if negative sign"
   ]
  },
  {
   "cell_type": "markdown",
   "metadata": {},
   "source": [
    "We can compute all of the bin index bits at once as follows. Note the absence of the explicit `for` loop over the 16 vectors. Matrix operations let us batch dot-product computation in a highly efficent manner, unlike the `for` loop construction. Given the relative inefficiency of loops in Python, the advantage of matrix operations is even greater."
   ]
  },
  {
   "cell_type": "code",
   "execution_count": 73,
   "metadata": {
    "collapsed": false
   },
   "outputs": [],
   "source": [
    "exp = doc.dot(random_vectors) >= 0 # should return an array of 16 True/False bits"
   ]
  },
  {
   "cell_type": "code",
   "execution_count": 74,
   "metadata": {
    "collapsed": false
   },
   "outputs": [
    {
     "data": {
      "text/plain": [
       "(1, 16)"
      ]
     },
     "execution_count": 74,
     "metadata": {},
     "output_type": "execute_result"
    }
   ],
   "source": [
    "exp.shape"
   ]
  },
  {
   "cell_type": "code",
   "execution_count": 75,
   "metadata": {
    "collapsed": false
   },
   "outputs": [
    {
     "data": {
      "text/plain": [
       "array([[ True,  True, False, False,  True,  True,  True,  True, False,\n",
       "        False, False, False,  True, False,  True,  True]], dtype=bool)"
      ]
     },
     "execution_count": 75,
     "metadata": {},
     "output_type": "execute_result"
    }
   ],
   "source": [
    "exp # returns whether the doc (one of the articles in the corpus is in the bin)"
   ]
  },
  {
   "cell_type": "code",
   "execution_count": 27,
   "metadata": {
    "collapsed": false
   },
   "outputs": [
    {
     "data": {
      "text/plain": [
       "array([[1, 1, 0, 0, 0, 1, 1, 0, 1, 1, 1, 0, 0, 1, 0, 1]])"
      ]
     },
     "execution_count": 27,
     "metadata": {},
     "output_type": "execute_result"
    }
   ],
   "source": [
    "np.array(doc.dot(random_vectors) >= 0, dtype=int) # display index bits in 0/1's"
   ]
  },
  {
   "cell_type": "markdown",
   "metadata": {},
   "source": [
    "All documents that obtain exactly this vector will be assigned to the same bin. We'd like to repeat the identical operation on all documents in the Wikipedia dataset and compute the corresponding bin indices. Again, we use matrix operations  so that no explicit loop is needed."
   ]
  },
  {
   "cell_type": "code",
   "execution_count": 76,
   "metadata": {
    "collapsed": false
   },
   "outputs": [],
   "source": [
    "exp2 = corpus[0:2].dot(random_vectors) >= 0 # compute bit indices of first two documents"
   ]
  },
  {
   "cell_type": "code",
   "execution_count": 77,
   "metadata": {
    "collapsed": false
   },
   "outputs": [
    {
     "data": {
      "text/plain": [
       "(2, 16)"
      ]
     },
     "execution_count": 77,
     "metadata": {},
     "output_type": "execute_result"
    }
   ],
   "source": [
    "exp2.shape # (i,j) = (document,is_in_bin)"
   ]
  },
  {
   "cell_type": "code",
   "execution_count": 29,
   "metadata": {
    "collapsed": false
   },
   "outputs": [
    {
     "data": {
      "text/plain": [
       "array([[ True,  True, False, ...,  True, False,  True],\n",
       "       [ True, False, False, ..., False, False,  True],\n",
       "       [False,  True, False, ...,  True, False,  True],\n",
       "       ..., \n",
       "       [ True,  True, False, ...,  True,  True,  True],\n",
       "       [False,  True,  True, ...,  True, False,  True],\n",
       "       [ True, False,  True, ..., False, False,  True]], dtype=bool)"
      ]
     },
     "execution_count": 29,
     "metadata": {},
     "output_type": "execute_result"
    }
   ],
   "source": [
    "corpus.dot(random_vectors) >= 0 # compute bit indices of ALL documents"
   ]
  },
  {
   "cell_type": "markdown",
   "metadata": {},
   "source": [
    "We're almost done! To make it convenient to refer to individual bins, we convert each binary bin index into a single integer: \n",
    "```\n",
    "Bin index                      integer\n",
    "[0,0,0,0,0,0,0,0,0,0,0,0]   => 0\n",
    "[0,0,0,0,0,0,0,0,0,0,0,1]   => 1\n",
    "[0,0,0,0,0,0,0,0,0,0,1,0]   => 2\n",
    "[0,0,0,0,0,0,0,0,0,0,1,1]   => 3\n",
    "...\n",
    "[1,1,1,1,1,1,1,1,1,1,0,0]   => 65532\n",
    "[1,1,1,1,1,1,1,1,1,1,0,1]   => 65533\n",
    "[1,1,1,1,1,1,1,1,1,1,1,0]   => 65534\n",
    "[1,1,1,1,1,1,1,1,1,1,1,1]   => 65535 (= 2^16-1)\n",
    "```\n",
    "By the [rules of binary number representation](https://en.wikipedia.org/wiki/Binary_number#Decimal), we just need to compute the dot product between the document vector and the vector consisting of powers of 2:"
   ]
  },
  {
   "cell_type": "code",
   "execution_count": 79,
   "metadata": {
    "collapsed": false,
    "scrolled": true
   },
   "outputs": [
    {
     "data": {
      "text/plain": [
       "array([32768, 16384,  8192,  4096,  2048,  1024,   512,   256,   128,\n",
       "          64,    32,    16,     8,     4,     2,     1])"
      ]
     },
     "execution_count": 79,
     "metadata": {},
     "output_type": "execute_result"
    }
   ],
   "source": [
    "1<<np.arange(15,-1,-1)"
   ]
  },
  {
   "cell_type": "code",
   "execution_count": 40,
   "metadata": {
    "collapsed": false
   },
   "outputs": [
    {
     "name": "stdout",
     "output_type": "stream",
     "text": [
      "[[ True  True False False False  True  True False  True  True  True False\n",
      "  False  True False  True]]\n",
      "[32768 16384  8192  4096  2048  1024   512   256   128    64    32    16\n",
      "     8     4     2     1]\n",
      "[50917]\n"
     ]
    }
   ],
   "source": [
    "doc = corpus[0, :]  # first document\n",
    "index_bits = (doc.dot(random_vectors) >= 0)\n",
    "powers_of_two = (1 << np.arange(15, -1, -1))\n",
    "print index_bits\n",
    "print powers_of_two\n",
    "print index_bits.dot(powers_of_two)"
   ]
  },
  {
   "cell_type": "markdown",
   "metadata": {},
   "source": [
    "Since it's the dot product again, we batch it with a matrix operation:"
   ]
  },
  {
   "cell_type": "code",
   "execution_count": 41,
   "metadata": {
    "collapsed": false
   },
   "outputs": [
    {
     "data": {
      "text/plain": [
       "array([50917, 36265, 19365, ..., 52983, 27589, 41449])"
      ]
     },
     "execution_count": 41,
     "metadata": {},
     "output_type": "execute_result"
    }
   ],
   "source": [
    "index_bits = corpus.dot(random_vectors) >= 0\n",
    "index_bits.dot(powers_of_two)"
   ]
  },
  {
   "cell_type": "code",
   "execution_count": 80,
   "metadata": {
    "collapsed": true
   },
   "outputs": [],
   "source": [
    "integer_idx = index_bits.dot(powers_of_two)"
   ]
  },
  {
   "cell_type": "code",
   "execution_count": 85,
   "metadata": {
    "collapsed": false
   },
   "outputs": [
    {
     "data": {
      "text/plain": [
       "49320"
      ]
     },
     "execution_count": 85,
     "metadata": {},
     "output_type": "execute_result"
    }
   ],
   "source": [
    "integer_idx[-5]"
   ]
  },
  {
   "cell_type": "markdown",
   "metadata": {},
   "source": [
    "This array gives us the integer index of the bins for all documents.\n",
    "\n",
    "Now we are ready to complete the following function. Given the integer bin indices for the documents, you should compile a list of document IDs that belong to each bin. Since a list is to be maintained for each unique bin index, a dictionary of lists is used.\n",
    "\n",
    "1. Compute the integer bin indices. This step is already completed.\n",
    "2. For each document in the dataset, do the following:\n",
    "   * Get the integer bin index for the document.\n",
    "   * Fetch the list of document ids associated with the bin; if no list yet exists for this bin, assign the bin an empty list.\n",
    "   * Add the document id to the end of the list.\n"
   ]
  },
  {
   "cell_type": "code",
   "execution_count": 108,
   "metadata": {
    "collapsed": false
   },
   "outputs": [],
   "source": [
    "def train_lsh(data, num_vector=16, seed=None):\n",
    "    \n",
    "    dim = data.shape[1] # length of vocabulary\n",
    "    if seed is not None:\n",
    "        np.random.seed(seed)\n",
    "    random_vectors = generate_random_vectors(num_vector, dim)\n",
    "  \n",
    "    powers_of_two = 1 << np.arange(num_vector-1, -1, -1) # generates powers of two up to number of vectors\n",
    "  \n",
    "    table = {}\n",
    "    \n",
    "    # Partition data points into bins\n",
    "    bin_index_bits = (data.dot(random_vectors) >= 0) # true, false values\n",
    "  \n",
    "    # Encode bin index bits into integers\n",
    "    bin_indices = bin_index_bits.dot(powers_of_two) # int values\n",
    "    \n",
    "    # Update `table` so that `table[i]` is the list of document ids with bin index equal to i.\n",
    "    for data_index, bin_index in enumerate(bin_indices):\n",
    "        if bin_index not in table:\n",
    "            # If no list yet exists for this bin, assign the bin an empty list.\n",
    "            table[bin_index] = [] # YOUR CODE HERE\n",
    "        # Fetch the list of document ids associated with the bin and add the document id to the end.\n",
    "        table[bin_index].append(data_index) # YOUR CODE HERE\n",
    "\n",
    "    model = {'data': data,\n",
    "             'bin_index_bits': bin_index_bits,\n",
    "             'bin_indices': bin_indices,\n",
    "             'table': table,\n",
    "             'random_vectors': random_vectors,\n",
    "             'num_vector': num_vector}\n",
    "    \n",
    "    return model"
   ]
  },
  {
   "cell_type": "markdown",
   "metadata": {},
   "source": [
    "**Checkpoint**. "
   ]
  },
  {
   "cell_type": "code",
   "execution_count": 109,
   "metadata": {
    "collapsed": false
   },
   "outputs": [
    {
     "name": "stdout",
     "output_type": "stream",
     "text": [
      "Passed!\n"
     ]
    }
   ],
   "source": [
    "model = train_lsh(corpus, num_vector=16, seed=143)\n",
    "table = model['table']\n",
    "if   0 in table and table[0]   == [39583] and \\\n",
    "   143 in table and table[143] == [19693, 28277, 29776, 30399]:\n",
    "    print 'Passed!'\n",
    "else:\n",
    "    print 'Check your code.'"
   ]
  },
  {
   "cell_type": "markdown",
   "metadata": {},
   "source": [
    "**Note.** We will be using the model trained here in the following sections, unless otherwise indicated."
   ]
  },
  {
   "cell_type": "markdown",
   "metadata": {},
   "source": [
    "## Inspect bins"
   ]
  },
  {
   "cell_type": "markdown",
   "metadata": {},
   "source": [
    "Let us look at some documents and see which bins they fall into."
   ]
  },
  {
   "cell_type": "code",
   "execution_count": 110,
   "metadata": {
    "collapsed": false
   },
   "outputs": [
    {
     "data": {
      "text/html": [
       "<div style=\"max-height:1000px;max-width:1500px;overflow:auto;\"><table frame=\"box\" rules=\"cols\">\n",
       "    <tr>\n",
       "        <th style=\"padding-left: 1em; padding-right: 1em; text-align: center\">id</th>\n",
       "        <th style=\"padding-left: 1em; padding-right: 1em; text-align: center\">URI</th>\n",
       "        <th style=\"padding-left: 1em; padding-right: 1em; text-align: center\">name</th>\n",
       "        <th style=\"padding-left: 1em; padding-right: 1em; text-align: center\">text</th>\n",
       "        <th style=\"padding-left: 1em; padding-right: 1em; text-align: center\">tf_idf</th>\n",
       "    </tr>\n",
       "    <tr>\n",
       "        <td style=\"padding-left: 1em; padding-right: 1em; text-align: center; vertical-align: top\">35817</td>\n",
       "        <td style=\"padding-left: 1em; padding-right: 1em; text-align: center; vertical-align: top\">&lt;http://dbpedia.org/resou<br>rce/Barack_Obama&gt; ...</td>\n",
       "        <td style=\"padding-left: 1em; padding-right: 1em; text-align: center; vertical-align: top\">Barack Obama</td>\n",
       "        <td style=\"padding-left: 1em; padding-right: 1em; text-align: center; vertical-align: top\">barack hussein obama ii<br>brk husen bm born august ...</td>\n",
       "        <td style=\"padding-left: 1em; padding-right: 1em; text-align: center; vertical-align: top\">{'operations':<br>3.811771079388818, ...</td>\n",
       "    </tr>\n",
       "</table>\n",
       "[? rows x 5 columns]<br/>Note: Only the head of the SFrame is printed. This SFrame is lazily evaluated.<br/>You can use sf.materialize() to force materialization.\n",
       "</div>"
      ],
      "text/plain": [
       "Columns:\n",
       "\tid\tint\n",
       "\tURI\tstr\n",
       "\tname\tstr\n",
       "\ttext\tstr\n",
       "\ttf_idf\tdict\n",
       "\n",
       "Rows: Unknown\n",
       "\n",
       "Data:\n",
       "+-------+-------------------------------+--------------+\n",
       "|   id  |              URI              |     name     |\n",
       "+-------+-------------------------------+--------------+\n",
       "| 35817 | <http://dbpedia.org/resour... | Barack Obama |\n",
       "+-------+-------------------------------+--------------+\n",
       "+-------------------------------+-------------------------------+\n",
       "|              text             |             tf_idf            |\n",
       "+-------------------------------+-------------------------------+\n",
       "| barack hussein obama ii br... | {'operations': 3.811771079... |\n",
       "+-------------------------------+-------------------------------+\n",
       "[? rows x 5 columns]\n",
       "Note: Only the head of the SFrame is printed. This SFrame is lazily evaluated.\n",
       "You can use sf.materialize() to force materialization."
      ]
     },
     "execution_count": 110,
     "metadata": {},
     "output_type": "execute_result"
    }
   ],
   "source": [
    "wiki[wiki['name'] == 'Barack Obama']"
   ]
  },
  {
   "cell_type": "markdown",
   "metadata": {},
   "source": [
    "**Quiz Question**. What is the document `id` of Barack Obama's article?\n",
    "\n",
    "**Quiz Question**. Which bin contains Barack Obama's article? Enter its integer index."
   ]
  },
  {
   "cell_type": "code",
   "execution_count": 137,
   "metadata": {
    "collapsed": false
   },
   "outputs": [],
   "source": [
    "# what is document id?\n",
    " #35817\n",
    "# which bin?\n",
    "bi = model['bin_indices']"
   ]
  },
  {
   "cell_type": "code",
   "execution_count": 138,
   "metadata": {
    "collapsed": false
   },
   "outputs": [
    {
     "data": {
      "text/plain": [
       "50194"
      ]
     },
     "execution_count": 138,
     "metadata": {},
     "output_type": "execute_result"
    }
   ],
   "source": [
    "bi[35817]"
   ]
  },
  {
   "cell_type": "markdown",
   "metadata": {},
   "source": [
    "Recall from the previous assignment that Joe Biden was a close neighbor of Barack Obama."
   ]
  },
  {
   "cell_type": "code",
   "execution_count": 121,
   "metadata": {
    "collapsed": false
   },
   "outputs": [
    {
     "data": {
      "text/html": [
       "<div style=\"max-height:1000px;max-width:1500px;overflow:auto;\"><table frame=\"box\" rules=\"cols\">\n",
       "    <tr>\n",
       "        <th style=\"padding-left: 1em; padding-right: 1em; text-align: center\">id</th>\n",
       "        <th style=\"padding-left: 1em; padding-right: 1em; text-align: center\">URI</th>\n",
       "        <th style=\"padding-left: 1em; padding-right: 1em; text-align: center\">name</th>\n",
       "        <th style=\"padding-left: 1em; padding-right: 1em; text-align: center\">text</th>\n",
       "        <th style=\"padding-left: 1em; padding-right: 1em; text-align: center\">tf_idf</th>\n",
       "    </tr>\n",
       "    <tr>\n",
       "        <td style=\"padding-left: 1em; padding-right: 1em; text-align: center; vertical-align: top\">24478</td>\n",
       "        <td style=\"padding-left: 1em; padding-right: 1em; text-align: center; vertical-align: top\">&lt;http://dbpedia.org/resou<br>rce/Joe_Biden&gt; ...</td>\n",
       "        <td style=\"padding-left: 1em; padding-right: 1em; text-align: center; vertical-align: top\">Joe Biden</td>\n",
       "        <td style=\"padding-left: 1em; padding-right: 1em; text-align: center; vertical-align: top\">joseph robinette joe<br>biden jr dosf rbnt badn ...</td>\n",
       "        <td style=\"padding-left: 1em; padding-right: 1em; text-align: center; vertical-align: top\">{'selected':<br>2.779911774904442, ...</td>\n",
       "    </tr>\n",
       "</table>\n",
       "[? rows x 5 columns]<br/>Note: Only the head of the SFrame is printed. This SFrame is lazily evaluated.<br/>You can use sf.materialize() to force materialization.\n",
       "</div>"
      ],
      "text/plain": [
       "Columns:\n",
       "\tid\tint\n",
       "\tURI\tstr\n",
       "\tname\tstr\n",
       "\ttext\tstr\n",
       "\ttf_idf\tdict\n",
       "\n",
       "Rows: Unknown\n",
       "\n",
       "Data:\n",
       "+-------+-------------------------------+-----------+\n",
       "|   id  |              URI              |    name   |\n",
       "+-------+-------------------------------+-----------+\n",
       "| 24478 | <http://dbpedia.org/resour... | Joe Biden |\n",
       "+-------+-------------------------------+-----------+\n",
       "+-------------------------------+-------------------------------+\n",
       "|              text             |             tf_idf            |\n",
       "+-------------------------------+-------------------------------+\n",
       "| joseph robinette joe biden... | {'selected': 2.77991177490... |\n",
       "+-------------------------------+-------------------------------+\n",
       "[? rows x 5 columns]\n",
       "Note: Only the head of the SFrame is printed. This SFrame is lazily evaluated.\n",
       "You can use sf.materialize() to force materialization."
      ]
     },
     "execution_count": 121,
     "metadata": {},
     "output_type": "execute_result"
    }
   ],
   "source": [
    "wiki[wiki['name'] == 'Joe Biden']"
   ]
  },
  {
   "cell_type": "markdown",
   "metadata": {},
   "source": [
    "**Quiz Question**. Examine the bit representations of the bins containing Barack Obama and Joe Biden. In how many places do they agree?\n",
    "\n",
    "1. 16 out of 16 places (Barack Obama and Joe Biden fall into the same bin)\n",
    "2. 14 out of 16 places\n",
    "3. 12 out of 16 places\n",
    "4. 10 out of 16 places\n",
    "5. 8 out of 16 places"
   ]
  },
  {
   "cell_type": "code",
   "execution_count": 140,
   "metadata": {
    "collapsed": false
   },
   "outputs": [
    {
     "data": {
      "text/plain": [
       "33794"
      ]
     },
     "execution_count": 140,
     "metadata": {},
     "output_type": "execute_result"
    }
   ],
   "source": [
    "bi[24478]"
   ]
  },
  {
   "cell_type": "code",
   "execution_count": 124,
   "metadata": {
    "collapsed": false
   },
   "outputs": [],
   "source": [
    "bib = model['bin_index_bits']"
   ]
  },
  {
   "cell_type": "code",
   "execution_count": 133,
   "metadata": {
    "collapsed": false
   },
   "outputs": [],
   "source": [
    "obama_bits = bib[35817] # obama bits"
   ]
  },
  {
   "cell_type": "code",
   "execution_count": 134,
   "metadata": {
    "collapsed": false
   },
   "outputs": [],
   "source": [
    "biden_bits = bib[24478] # biden bits"
   ]
  },
  {
   "cell_type": "code",
   "execution_count": 135,
   "metadata": {
    "collapsed": true
   },
   "outputs": [],
   "source": [
    "match = obama_bits==biden_bits"
   ]
  },
  {
   "cell_type": "code",
   "execution_count": 136,
   "metadata": {
    "collapsed": false
   },
   "outputs": [
    {
     "data": {
      "text/plain": [
       "14"
      ]
     },
     "execution_count": 136,
     "metadata": {},
     "output_type": "execute_result"
    }
   ],
   "source": [
    "match.sum()"
   ]
  },
  {
   "cell_type": "markdown",
   "metadata": {},
   "source": [
    "Compare the result with a former British diplomat, whose bin representation agrees with Obama's in only 8 out of 16 places."
   ]
  },
  {
   "cell_type": "code",
   "execution_count": 142,
   "metadata": {
    "collapsed": false
   },
   "outputs": [
    {
     "data": {
      "text/html": [
       "<div style=\"max-height:1000px;max-width:1500px;overflow:auto;\"><table frame=\"box\" rules=\"cols\">\n",
       "    <tr>\n",
       "        <th style=\"padding-left: 1em; padding-right: 1em; text-align: center\">id</th>\n",
       "        <th style=\"padding-left: 1em; padding-right: 1em; text-align: center\">URI</th>\n",
       "        <th style=\"padding-left: 1em; padding-right: 1em; text-align: center\">name</th>\n",
       "        <th style=\"padding-left: 1em; padding-right: 1em; text-align: center\">text</th>\n",
       "        <th style=\"padding-left: 1em; padding-right: 1em; text-align: center\">tf_idf</th>\n",
       "    </tr>\n",
       "    <tr>\n",
       "        <td style=\"padding-left: 1em; padding-right: 1em; text-align: center; vertical-align: top\">22745</td>\n",
       "        <td style=\"padding-left: 1em; padding-right: 1em; text-align: center; vertical-align: top\">&lt;http://dbpedia.org/resou<br>rce/Wynn_Normington_H ...</td>\n",
       "        <td style=\"padding-left: 1em; padding-right: 1em; text-align: center; vertical-align: top\">Wynn Normington Hugh-<br>Jones ...</td>\n",
       "        <td style=\"padding-left: 1em; padding-right: 1em; text-align: center; vertical-align: top\">sir wynn normington<br>hughjones kb sometimes ...</td>\n",
       "        <td style=\"padding-left: 1em; padding-right: 1em; text-align: center; vertical-align: top\">{'wynn':<br>7.0162034756730725, ...</td>\n",
       "    </tr>\n",
       "</table>\n",
       "[? rows x 5 columns]<br/>Note: Only the head of the SFrame is printed. This SFrame is lazily evaluated.<br/>You can use sf.materialize() to force materialization.\n",
       "</div>"
      ],
      "text/plain": [
       "Columns:\n",
       "\tid\tint\n",
       "\tURI\tstr\n",
       "\tname\tstr\n",
       "\ttext\tstr\n",
       "\ttf_idf\tdict\n",
       "\n",
       "Rows: Unknown\n",
       "\n",
       "Data:\n",
       "+-------+-------------------------------+----------------------------+\n",
       "|   id  |              URI              |            name            |\n",
       "+-------+-------------------------------+----------------------------+\n",
       "| 22745 | <http://dbpedia.org/resour... | Wynn Normington Hugh-Jones |\n",
       "+-------+-------------------------------+----------------------------+\n",
       "+-------------------------------+-------------------------------+\n",
       "|              text             |             tf_idf            |\n",
       "+-------------------------------+-------------------------------+\n",
       "| sir wynn normington hughjo... | {'wynn': 7.016203475673072... |\n",
       "+-------------------------------+-------------------------------+\n",
       "[? rows x 5 columns]\n",
       "Note: Only the head of the SFrame is printed. This SFrame is lazily evaluated.\n",
       "You can use sf.materialize() to force materialization."
      ]
     },
     "execution_count": 142,
     "metadata": {},
     "output_type": "execute_result"
    }
   ],
   "source": [
    "wiki[wiki['name']=='Wynn Normington Hugh-Jones']"
   ]
  },
  {
   "cell_type": "code",
   "execution_count": 144,
   "metadata": {
    "collapsed": false
   },
   "outputs": [
    {
     "name": "stdout",
     "output_type": "stream",
     "text": [
      "[0 0 0 1 0 0 1 0 0 0 1 1 0 1 0 0]\n",
      "4660\n"
     ]
    },
    {
     "data": {
      "text/plain": [
       "8"
      ]
     },
     "execution_count": 144,
     "metadata": {},
     "output_type": "execute_result"
    }
   ],
   "source": [
    "print np.array(model['bin_index_bits'][22745], dtype=int) # list of 0/1's\n",
    "print model['bin_indices'][22745] # integer format\n",
    "test = model['bin_index_bits'][35817] == model['bin_index_bits'][22745]\n",
    "test.sum()"
   ]
  },
  {
   "cell_type": "markdown",
   "metadata": {},
   "source": [
    "How about the documents in the same bin as Barack Obama? Are they necessarily more similar to Obama than Biden?  Let's look at which documents are in the same bin as the Barack Obama article."
   ]
  },
  {
   "cell_type": "code",
   "execution_count": 145,
   "metadata": {
    "collapsed": false
   },
   "outputs": [
    {
     "data": {
      "text/plain": [
       "[21426, 35817, 39426, 50261, 53937]"
      ]
     },
     "execution_count": 145,
     "metadata": {},
     "output_type": "execute_result"
    }
   ],
   "source": [
    "model['table'][model['bin_indices'][35817]]"
   ]
  },
  {
   "cell_type": "markdown",
   "metadata": {},
   "source": [
    "There are four other documents that belong to the same bin. Which documents are they?"
   ]
  },
  {
   "cell_type": "code",
   "execution_count": 146,
   "metadata": {
    "collapsed": false
   },
   "outputs": [
    {
     "data": {
      "text/html": [
       "<div style=\"max-height:1000px;max-width:1500px;overflow:auto;\"><table frame=\"box\" rules=\"cols\">\n",
       "    <tr>\n",
       "        <th style=\"padding-left: 1em; padding-right: 1em; text-align: center\">id</th>\n",
       "        <th style=\"padding-left: 1em; padding-right: 1em; text-align: center\">URI</th>\n",
       "        <th style=\"padding-left: 1em; padding-right: 1em; text-align: center\">name</th>\n",
       "        <th style=\"padding-left: 1em; padding-right: 1em; text-align: center\">text</th>\n",
       "        <th style=\"padding-left: 1em; padding-right: 1em; text-align: center\">tf_idf</th>\n",
       "    </tr>\n",
       "    <tr>\n",
       "        <td style=\"padding-left: 1em; padding-right: 1em; text-align: center; vertical-align: top\">21426</td>\n",
       "        <td style=\"padding-left: 1em; padding-right: 1em; text-align: center; vertical-align: top\">&lt;http://dbpedia.org/resou<br>rce/Mark_Boulware&gt; ...</td>\n",
       "        <td style=\"padding-left: 1em; padding-right: 1em; text-align: center; vertical-align: top\">Mark Boulware</td>\n",
       "        <td style=\"padding-left: 1em; padding-right: 1em; text-align: center; vertical-align: top\">mark boulware born 1948<br>is an american diplomat ...</td>\n",
       "        <td style=\"padding-left: 1em; padding-right: 1em; text-align: center; vertical-align: top\">{'ambassador':<br>15.90834582606623, ...</td>\n",
       "    </tr>\n",
       "    <tr>\n",
       "        <td style=\"padding-left: 1em; padding-right: 1em; text-align: center; vertical-align: top\">39426</td>\n",
       "        <td style=\"padding-left: 1em; padding-right: 1em; text-align: center; vertical-align: top\">&lt;http://dbpedia.org/resou<br>rce/John_Wells_(polit ...</td>\n",
       "        <td style=\"padding-left: 1em; padding-right: 1em; text-align: center; vertical-align: top\">John Wells (politician)</td>\n",
       "        <td style=\"padding-left: 1em; padding-right: 1em; text-align: center; vertical-align: top\">sir john julius wells<br>born 30 march 1925 is a ...</td>\n",
       "        <td style=\"padding-left: 1em; padding-right: 1em; text-align: center; vertical-align: top\">{'when':<br>1.3806055739282235, ...</td>\n",
       "    </tr>\n",
       "    <tr>\n",
       "        <td style=\"padding-left: 1em; padding-right: 1em; text-align: center; vertical-align: top\">50261</td>\n",
       "        <td style=\"padding-left: 1em; padding-right: 1em; text-align: center; vertical-align: top\">&lt;http://dbpedia.org/resou<br>rce/Francis_Longstaff&gt; ...</td>\n",
       "        <td style=\"padding-left: 1em; padding-right: 1em; text-align: center; vertical-align: top\">Francis Longstaff</td>\n",
       "        <td style=\"padding-left: 1em; padding-right: 1em; text-align: center; vertical-align: top\">francis a longstaff born<br>august 3 1956 is an ...</td>\n",
       "        <td style=\"padding-left: 1em; padding-right: 1em; text-align: center; vertical-align: top\">{'all':<br>1.6431112434912472, ...</td>\n",
       "    </tr>\n",
       "    <tr>\n",
       "        <td style=\"padding-left: 1em; padding-right: 1em; text-align: center; vertical-align: top\">53937</td>\n",
       "        <td style=\"padding-left: 1em; padding-right: 1em; text-align: center; vertical-align: top\">&lt;http://dbpedia.org/resou<br>rce/Madurai_T._Sriniv ...</td>\n",
       "        <td style=\"padding-left: 1em; padding-right: 1em; text-align: center; vertical-align: top\">Madurai T. Srinivasan</td>\n",
       "        <td style=\"padding-left: 1em; padding-right: 1em; text-align: center; vertical-align: top\">maduraitsrinivasan is a<br>wellknown figure in the ...</td>\n",
       "        <td style=\"padding-left: 1em; padding-right: 1em; text-align: center; vertical-align: top\">{'alarmelu':<br>21.972990778450388, ...</td>\n",
       "    </tr>\n",
       "</table>\n",
       "[4 rows x 5 columns]<br/>\n",
       "</div>"
      ],
      "text/plain": [
       "Columns:\n",
       "\tid\tint\n",
       "\tURI\tstr\n",
       "\tname\tstr\n",
       "\ttext\tstr\n",
       "\ttf_idf\tdict\n",
       "\n",
       "Rows: 4\n",
       "\n",
       "Data:\n",
       "+-------+-------------------------------+-------------------------+\n",
       "|   id  |              URI              |           name          |\n",
       "+-------+-------------------------------+-------------------------+\n",
       "| 21426 | <http://dbpedia.org/resour... |      Mark Boulware      |\n",
       "| 39426 | <http://dbpedia.org/resour... | John Wells (politician) |\n",
       "| 50261 | <http://dbpedia.org/resour... |    Francis Longstaff    |\n",
       "| 53937 | <http://dbpedia.org/resour... |  Madurai T. Srinivasan  |\n",
       "+-------+-------------------------------+-------------------------+\n",
       "+-------------------------------+-------------------------------+\n",
       "|              text             |             tf_idf            |\n",
       "+-------------------------------+-------------------------------+\n",
       "| mark boulware born 1948 is... | {'ambassador': 15.90834582... |\n",
       "| sir john julius wells born... | {'when': 1.380605573928223... |\n",
       "| francis a longstaff born a... | {'all': 1.6431112434912472... |\n",
       "| maduraitsrinivasan is a we... | {'alarmelu': 21.9729907784... |\n",
       "+-------------------------------+-------------------------------+\n",
       "[4 rows x 5 columns]"
      ]
     },
     "execution_count": 146,
     "metadata": {},
     "output_type": "execute_result"
    }
   ],
   "source": [
    "doc_ids = list(model['table'][model['bin_indices'][35817]])\n",
    "doc_ids.remove(35817) # display documents other than Obama\n",
    "\n",
    "docs = wiki.filter_by(values=doc_ids, column_name='id') # filter by id column\n",
    "docs"
   ]
  },
  {
   "cell_type": "markdown",
   "metadata": {},
   "source": [
    "It turns out that Joe Biden is much closer to Barack Obama than any of the four documents, even though Biden's bin representation differs from Obama's by 2 bits."
   ]
  },
  {
   "cell_type": "code",
   "execution_count": 147,
   "metadata": {
    "collapsed": false
   },
   "outputs": [
    {
     "name": "stdout",
     "output_type": "stream",
     "text": [
      "================= Cosine distance from Barack Obama\n",
      "Barack Obama - Joe Biden               : 0.703139\n",
      "Barack Obama - Mark Boulware           : 0.950867\n",
      "Barack Obama - John Wells (politician) : 0.975966\n",
      "Barack Obama - Francis Longstaff       : 0.978256\n",
      "Barack Obama - Madurai T. Srinivasan   : 0.993092\n"
     ]
    }
   ],
   "source": [
    "def cosine_distance(x, y):\n",
    "    xy = x.dot(y.T)\n",
    "    dist = xy/(norm(x)*norm(y))\n",
    "    return 1-dist[0,0]\n",
    "\n",
    "obama_tf_idf = corpus[35817,:]\n",
    "biden_tf_idf = corpus[24478,:]\n",
    "\n",
    "print '================= Cosine distance from Barack Obama'\n",
    "print 'Barack Obama - {0:24s}: {1:f}'.format('Joe Biden',\n",
    "                                             cosine_distance(obama_tf_idf, biden_tf_idf))\n",
    "for doc_id in doc_ids:\n",
    "    doc_tf_idf = corpus[doc_id,:]\n",
    "    print 'Barack Obama - {0:24s}: {1:f}'.format(wiki[doc_id]['name'],\n",
    "                                                 cosine_distance(obama_tf_idf, doc_tf_idf))"
   ]
  },
  {
   "cell_type": "markdown",
   "metadata": {},
   "source": [
    "**Moral of the story**. Similar data points will in general _tend to_ fall into _nearby_ bins, but that's all we can say about LSH. In a high-dimensional space such as text features, we often get unlucky with our selection of only a few random vectors such that dissimilar data points go into the same bin while similar data points fall into different bins. **Given a query document, we must consider all documents in the nearby bins and sort them according to their actual distances from the query.**"
   ]
  },
  {
   "cell_type": "markdown",
   "metadata": {},
   "source": [
    "## Query the LSH model"
   ]
  },
  {
   "cell_type": "markdown",
   "metadata": {},
   "source": [
    "Let us first implement the logic for searching nearby neighbors, which goes like this:\n",
    "```\n",
    "1. Let L be the bit representation of the bin that contains the query documents.\n",
    "2. Consider all documents in bin L.\n",
    "3. Consider documents in the bins whose bit representation differs from L by 1 bit.\n",
    "4. Consider documents in the bins whose bit representation differs from L by 2 bits.\n",
    "...\n",
    "```"
   ]
  },
  {
   "cell_type": "markdown",
   "metadata": {},
   "source": [
    "To obtain candidate bins that differ from the query bin by some number of bits, we use `itertools.combinations`, which produces all possible subsets of a given list. See [this documentation](https://docs.python.org/3/library/itertools.html#itertools.combinations) for details.\n",
    "```\n",
    "1. Decide on the search radius r. This will determine the number of different bits between the two vectors.\n",
    "2. For each subset (n_1, n_2, ..., n_r) of the list [0, 1, 2, ..., num_vector-1], do the following:\n",
    "   * Flip the bits (n_1, n_2, ..., n_r) of the query bin to produce a new bit vector.\n",
    "   * Fetch the list of documents belonging to the bin indexed by the new bit vector.\n",
    "   * Add those documents to the candidate set.\n",
    "```\n",
    "\n",
    "Each line of output from the following cell is a 3-tuple indicating where the candidate bin would differ from the query bin. For instance,\n",
    "```\n",
    "(0, 1, 3)\n",
    "```\n",
    "indicates that the candiate bin differs from the query bin in first, second, and fourth bits."
   ]
  },
  {
   "cell_type": "code",
   "execution_count": 148,
   "metadata": {
    "collapsed": true
   },
   "outputs": [],
   "source": [
    "from itertools import combinations"
   ]
  },
  {
   "cell_type": "code",
   "execution_count": 149,
   "metadata": {
    "collapsed": false
   },
   "outputs": [
    {
     "name": "stdout",
     "output_type": "stream",
     "text": [
      "(0, 1, 2)\n",
      "(0, 1, 3)\n",
      "(0, 1, 4)\n",
      "(0, 1, 5)\n",
      "(0, 1, 6)\n",
      "(0, 1, 7)\n",
      "(0, 1, 8)\n",
      "(0, 1, 9)\n",
      "(0, 1, 10)\n",
      "(0, 1, 11)\n",
      "(0, 1, 12)\n",
      "(0, 1, 13)\n",
      "(0, 1, 14)\n",
      "(0, 1, 15)\n",
      "(0, 2, 3)\n",
      "(0, 2, 4)\n",
      "(0, 2, 5)\n",
      "(0, 2, 6)\n",
      "(0, 2, 7)\n",
      "(0, 2, 8)\n",
      "(0, 2, 9)\n",
      "(0, 2, 10)\n",
      "(0, 2, 11)\n",
      "(0, 2, 12)\n",
      "(0, 2, 13)\n",
      "(0, 2, 14)\n",
      "(0, 2, 15)\n",
      "(0, 3, 4)\n",
      "(0, 3, 5)\n",
      "(0, 3, 6)\n",
      "(0, 3, 7)\n",
      "(0, 3, 8)\n",
      "(0, 3, 9)\n",
      "(0, 3, 10)\n",
      "(0, 3, 11)\n",
      "(0, 3, 12)\n",
      "(0, 3, 13)\n",
      "(0, 3, 14)\n",
      "(0, 3, 15)\n",
      "(0, 4, 5)\n",
      "(0, 4, 6)\n",
      "(0, 4, 7)\n",
      "(0, 4, 8)\n",
      "(0, 4, 9)\n",
      "(0, 4, 10)\n",
      "(0, 4, 11)\n",
      "(0, 4, 12)\n",
      "(0, 4, 13)\n",
      "(0, 4, 14)\n",
      "(0, 4, 15)\n",
      "(0, 5, 6)\n",
      "(0, 5, 7)\n",
      "(0, 5, 8)\n",
      "(0, 5, 9)\n",
      "(0, 5, 10)\n",
      "(0, 5, 11)\n",
      "(0, 5, 12)\n",
      "(0, 5, 13)\n",
      "(0, 5, 14)\n",
      "(0, 5, 15)\n",
      "(0, 6, 7)\n",
      "(0, 6, 8)\n",
      "(0, 6, 9)\n",
      "(0, 6, 10)\n",
      "(0, 6, 11)\n",
      "(0, 6, 12)\n",
      "(0, 6, 13)\n",
      "(0, 6, 14)\n",
      "(0, 6, 15)\n",
      "(0, 7, 8)\n",
      "(0, 7, 9)\n",
      "(0, 7, 10)\n",
      "(0, 7, 11)\n",
      "(0, 7, 12)\n",
      "(0, 7, 13)\n",
      "(0, 7, 14)\n",
      "(0, 7, 15)\n",
      "(0, 8, 9)\n",
      "(0, 8, 10)\n",
      "(0, 8, 11)\n",
      "(0, 8, 12)\n",
      "(0, 8, 13)\n",
      "(0, 8, 14)\n",
      "(0, 8, 15)\n",
      "(0, 9, 10)\n",
      "(0, 9, 11)\n",
      "(0, 9, 12)\n",
      "(0, 9, 13)\n",
      "(0, 9, 14)\n",
      "(0, 9, 15)\n",
      "(0, 10, 11)\n",
      "(0, 10, 12)\n",
      "(0, 10, 13)\n",
      "(0, 10, 14)\n",
      "(0, 10, 15)\n",
      "(0, 11, 12)\n",
      "(0, 11, 13)\n",
      "(0, 11, 14)\n",
      "(0, 11, 15)\n",
      "(0, 12, 13)\n",
      "(0, 12, 14)\n",
      "(0, 12, 15)\n",
      "(0, 13, 14)\n",
      "(0, 13, 15)\n",
      "(0, 14, 15)\n",
      "(1, 2, 3)\n",
      "(1, 2, 4)\n",
      "(1, 2, 5)\n",
      "(1, 2, 6)\n",
      "(1, 2, 7)\n",
      "(1, 2, 8)\n",
      "(1, 2, 9)\n",
      "(1, 2, 10)\n",
      "(1, 2, 11)\n",
      "(1, 2, 12)\n",
      "(1, 2, 13)\n",
      "(1, 2, 14)\n",
      "(1, 2, 15)\n",
      "(1, 3, 4)\n",
      "(1, 3, 5)\n",
      "(1, 3, 6)\n",
      "(1, 3, 7)\n",
      "(1, 3, 8)\n",
      "(1, 3, 9)\n",
      "(1, 3, 10)\n",
      "(1, 3, 11)\n",
      "(1, 3, 12)\n",
      "(1, 3, 13)\n",
      "(1, 3, 14)\n",
      "(1, 3, 15)\n",
      "(1, 4, 5)\n",
      "(1, 4, 6)\n",
      "(1, 4, 7)\n",
      "(1, 4, 8)\n",
      "(1, 4, 9)\n",
      "(1, 4, 10)\n",
      "(1, 4, 11)\n",
      "(1, 4, 12)\n",
      "(1, 4, 13)\n",
      "(1, 4, 14)\n",
      "(1, 4, 15)\n",
      "(1, 5, 6)\n",
      "(1, 5, 7)\n",
      "(1, 5, 8)\n",
      "(1, 5, 9)\n",
      "(1, 5, 10)\n",
      "(1, 5, 11)\n",
      "(1, 5, 12)\n",
      "(1, 5, 13)\n",
      "(1, 5, 14)\n",
      "(1, 5, 15)\n",
      "(1, 6, 7)\n",
      "(1, 6, 8)\n",
      "(1, 6, 9)\n",
      "(1, 6, 10)\n",
      "(1, 6, 11)\n",
      "(1, 6, 12)\n",
      "(1, 6, 13)\n",
      "(1, 6, 14)\n",
      "(1, 6, 15)\n",
      "(1, 7, 8)\n",
      "(1, 7, 9)\n",
      "(1, 7, 10)\n",
      "(1, 7, 11)\n",
      "(1, 7, 12)\n",
      "(1, 7, 13)\n",
      "(1, 7, 14)\n",
      "(1, 7, 15)\n",
      "(1, 8, 9)\n",
      "(1, 8, 10)\n",
      "(1, 8, 11)\n",
      "(1, 8, 12)\n",
      "(1, 8, 13)\n",
      "(1, 8, 14)\n",
      "(1, 8, 15)\n",
      "(1, 9, 10)\n",
      "(1, 9, 11)\n",
      "(1, 9, 12)\n",
      "(1, 9, 13)\n",
      "(1, 9, 14)\n",
      "(1, 9, 15)\n",
      "(1, 10, 11)\n",
      "(1, 10, 12)\n",
      "(1, 10, 13)\n",
      "(1, 10, 14)\n",
      "(1, 10, 15)\n",
      "(1, 11, 12)\n",
      "(1, 11, 13)\n",
      "(1, 11, 14)\n",
      "(1, 11, 15)\n",
      "(1, 12, 13)\n",
      "(1, 12, 14)\n",
      "(1, 12, 15)\n",
      "(1, 13, 14)\n",
      "(1, 13, 15)\n",
      "(1, 14, 15)\n",
      "(2, 3, 4)\n",
      "(2, 3, 5)\n",
      "(2, 3, 6)\n",
      "(2, 3, 7)\n",
      "(2, 3, 8)\n",
      "(2, 3, 9)\n",
      "(2, 3, 10)\n",
      "(2, 3, 11)\n",
      "(2, 3, 12)\n",
      "(2, 3, 13)\n",
      "(2, 3, 14)\n",
      "(2, 3, 15)\n",
      "(2, 4, 5)\n",
      "(2, 4, 6)\n",
      "(2, 4, 7)\n",
      "(2, 4, 8)\n",
      "(2, 4, 9)\n",
      "(2, 4, 10)\n",
      "(2, 4, 11)\n",
      "(2, 4, 12)\n",
      "(2, 4, 13)\n",
      "(2, 4, 14)\n",
      "(2, 4, 15)\n",
      "(2, 5, 6)\n",
      "(2, 5, 7)\n",
      "(2, 5, 8)\n",
      "(2, 5, 9)\n",
      "(2, 5, 10)\n",
      "(2, 5, 11)\n",
      "(2, 5, 12)\n",
      "(2, 5, 13)\n",
      "(2, 5, 14)\n",
      "(2, 5, 15)\n",
      "(2, 6, 7)\n",
      "(2, 6, 8)\n",
      "(2, 6, 9)\n",
      "(2, 6, 10)\n",
      "(2, 6, 11)\n",
      "(2, 6, 12)\n",
      "(2, 6, 13)\n",
      "(2, 6, 14)\n",
      "(2, 6, 15)\n",
      "(2, 7, 8)\n",
      "(2, 7, 9)\n",
      "(2, 7, 10)\n",
      "(2, 7, 11)\n",
      "(2, 7, 12)\n",
      "(2, 7, 13)\n",
      "(2, 7, 14)\n",
      "(2, 7, 15)\n",
      "(2, 8, 9)\n",
      "(2, 8, 10)\n",
      "(2, 8, 11)\n",
      "(2, 8, 12)\n",
      "(2, 8, 13)\n",
      "(2, 8, 14)\n",
      "(2, 8, 15)\n",
      "(2, 9, 10)\n",
      "(2, 9, 11)\n",
      "(2, 9, 12)\n",
      "(2, 9, 13)\n",
      "(2, 9, 14)\n",
      "(2, 9, 15)\n",
      "(2, 10, 11)\n",
      "(2, 10, 12)\n",
      "(2, 10, 13)\n",
      "(2, 10, 14)\n",
      "(2, 10, 15)\n",
      "(2, 11, 12)\n",
      "(2, 11, 13)\n",
      "(2, 11, 14)\n",
      "(2, 11, 15)\n",
      "(2, 12, 13)\n",
      "(2, 12, 14)\n",
      "(2, 12, 15)\n",
      "(2, 13, 14)\n",
      "(2, 13, 15)\n",
      "(2, 14, 15)\n",
      "(3, 4, 5)\n",
      "(3, 4, 6)\n",
      "(3, 4, 7)\n",
      "(3, 4, 8)\n",
      "(3, 4, 9)\n",
      "(3, 4, 10)\n",
      "(3, 4, 11)\n",
      "(3, 4, 12)\n",
      "(3, 4, 13)\n",
      "(3, 4, 14)\n",
      "(3, 4, 15)\n",
      "(3, 5, 6)\n",
      "(3, 5, 7)\n",
      "(3, 5, 8)\n",
      "(3, 5, 9)\n",
      "(3, 5, 10)\n",
      "(3, 5, 11)\n",
      "(3, 5, 12)\n",
      "(3, 5, 13)\n",
      "(3, 5, 14)\n",
      "(3, 5, 15)\n",
      "(3, 6, 7)\n",
      "(3, 6, 8)\n",
      "(3, 6, 9)\n",
      "(3, 6, 10)\n",
      "(3, 6, 11)\n",
      "(3, 6, 12)\n",
      "(3, 6, 13)\n",
      "(3, 6, 14)\n",
      "(3, 6, 15)\n",
      "(3, 7, 8)\n",
      "(3, 7, 9)\n",
      "(3, 7, 10)\n",
      "(3, 7, 11)\n",
      "(3, 7, 12)\n",
      "(3, 7, 13)\n",
      "(3, 7, 14)\n",
      "(3, 7, 15)\n",
      "(3, 8, 9)\n",
      "(3, 8, 10)\n",
      "(3, 8, 11)\n",
      "(3, 8, 12)\n",
      "(3, 8, 13)\n",
      "(3, 8, 14)\n",
      "(3, 8, 15)\n",
      "(3, 9, 10)\n",
      "(3, 9, 11)\n",
      "(3, 9, 12)\n",
      "(3, 9, 13)\n",
      "(3, 9, 14)\n",
      "(3, 9, 15)\n",
      "(3, 10, 11)\n",
      "(3, 10, 12)\n",
      "(3, 10, 13)\n",
      "(3, 10, 14)\n",
      "(3, 10, 15)\n",
      "(3, 11, 12)\n",
      "(3, 11, 13)\n",
      "(3, 11, 14)\n",
      "(3, 11, 15)\n",
      "(3, 12, 13)\n",
      "(3, 12, 14)\n",
      "(3, 12, 15)\n",
      "(3, 13, 14)\n",
      "(3, 13, 15)\n",
      "(3, 14, 15)\n",
      "(4, 5, 6)\n",
      "(4, 5, 7)\n",
      "(4, 5, 8)\n",
      "(4, 5, 9)\n",
      "(4, 5, 10)\n",
      "(4, 5, 11)\n",
      "(4, 5, 12)\n",
      "(4, 5, 13)\n",
      "(4, 5, 14)\n",
      "(4, 5, 15)\n",
      "(4, 6, 7)\n",
      "(4, 6, 8)\n",
      "(4, 6, 9)\n",
      "(4, 6, 10)\n",
      "(4, 6, 11)\n",
      "(4, 6, 12)\n",
      "(4, 6, 13)\n",
      "(4, 6, 14)\n",
      "(4, 6, 15)\n",
      "(4, 7, 8)\n",
      "(4, 7, 9)\n",
      "(4, 7, 10)\n",
      "(4, 7, 11)\n",
      "(4, 7, 12)\n",
      "(4, 7, 13)\n",
      "(4, 7, 14)\n",
      "(4, 7, 15)\n",
      "(4, 8, 9)\n",
      "(4, 8, 10)\n",
      "(4, 8, 11)\n",
      "(4, 8, 12)\n",
      "(4, 8, 13)\n",
      "(4, 8, 14)\n",
      "(4, 8, 15)\n",
      "(4, 9, 10)\n",
      "(4, 9, 11)\n",
      "(4, 9, 12)\n",
      "(4, 9, 13)\n",
      "(4, 9, 14)\n",
      "(4, 9, 15)\n",
      "(4, 10, 11)\n",
      "(4, 10, 12)\n",
      "(4, 10, 13)\n",
      "(4, 10, 14)\n",
      "(4, 10, 15)\n",
      "(4, 11, 12)\n",
      "(4, 11, 13)\n",
      "(4, 11, 14)\n",
      "(4, 11, 15)\n",
      "(4, 12, 13)\n",
      "(4, 12, 14)\n",
      "(4, 12, 15)\n",
      "(4, 13, 14)\n",
      "(4, 13, 15)\n",
      "(4, 14, 15)\n",
      "(5, 6, 7)\n",
      "(5, 6, 8)\n",
      "(5, 6, 9)\n",
      "(5, 6, 10)\n",
      "(5, 6, 11)\n",
      "(5, 6, 12)\n",
      "(5, 6, 13)\n",
      "(5, 6, 14)\n",
      "(5, 6, 15)\n",
      "(5, 7, 8)\n",
      "(5, 7, 9)\n",
      "(5, 7, 10)\n",
      "(5, 7, 11)\n",
      "(5, 7, 12)\n",
      "(5, 7, 13)\n",
      "(5, 7, 14)\n",
      "(5, 7, 15)\n",
      "(5, 8, 9)\n",
      "(5, 8, 10)\n",
      "(5, 8, 11)\n",
      "(5, 8, 12)\n",
      "(5, 8, 13)\n",
      "(5, 8, 14)\n",
      "(5, 8, 15)\n",
      "(5, 9, 10)\n",
      "(5, 9, 11)\n",
      "(5, 9, 12)\n",
      "(5, 9, 13)\n",
      "(5, 9, 14)\n",
      "(5, 9, 15)\n",
      "(5, 10, 11)\n",
      "(5, 10, 12)\n",
      "(5, 10, 13)\n",
      "(5, 10, 14)\n",
      "(5, 10, 15)\n",
      "(5, 11, 12)\n",
      "(5, 11, 13)\n",
      "(5, 11, 14)\n",
      "(5, 11, 15)\n",
      "(5, 12, 13)\n",
      "(5, 12, 14)\n",
      "(5, 12, 15)\n",
      "(5, 13, 14)\n",
      "(5, 13, 15)\n",
      "(5, 14, 15)\n",
      "(6, 7, 8)\n",
      "(6, 7, 9)\n",
      "(6, 7, 10)\n",
      "(6, 7, 11)\n",
      "(6, 7, 12)\n",
      "(6, 7, 13)\n",
      "(6, 7, 14)\n",
      "(6, 7, 15)\n",
      "(6, 8, 9)\n",
      "(6, 8, 10)\n",
      "(6, 8, 11)\n",
      "(6, 8, 12)\n",
      "(6, 8, 13)\n",
      "(6, 8, 14)\n",
      "(6, 8, 15)\n",
      "(6, 9, 10)\n",
      "(6, 9, 11)\n",
      "(6, 9, 12)\n",
      "(6, 9, 13)\n",
      "(6, 9, 14)\n",
      "(6, 9, 15)\n",
      "(6, 10, 11)\n",
      "(6, 10, 12)\n",
      "(6, 10, 13)\n",
      "(6, 10, 14)\n",
      "(6, 10, 15)\n",
      "(6, 11, 12)\n",
      "(6, 11, 13)\n",
      "(6, 11, 14)\n",
      "(6, 11, 15)\n",
      "(6, 12, 13)\n",
      "(6, 12, 14)\n",
      "(6, 12, 15)\n",
      "(6, 13, 14)\n",
      "(6, 13, 15)\n",
      "(6, 14, 15)\n",
      "(7, 8, 9)\n",
      "(7, 8, 10)\n",
      "(7, 8, 11)\n",
      "(7, 8, 12)\n",
      "(7, 8, 13)\n",
      "(7, 8, 14)\n",
      "(7, 8, 15)\n",
      "(7, 9, 10)\n",
      "(7, 9, 11)\n",
      "(7, 9, 12)\n",
      "(7, 9, 13)\n",
      "(7, 9, 14)\n",
      "(7, 9, 15)\n",
      "(7, 10, 11)\n",
      "(7, 10, 12)\n",
      "(7, 10, 13)\n",
      "(7, 10, 14)\n",
      "(7, 10, 15)\n",
      "(7, 11, 12)\n",
      "(7, 11, 13)\n",
      "(7, 11, 14)\n",
      "(7, 11, 15)\n",
      "(7, 12, 13)\n",
      "(7, 12, 14)\n",
      "(7, 12, 15)\n",
      "(7, 13, 14)\n",
      "(7, 13, 15)\n",
      "(7, 14, 15)\n",
      "(8, 9, 10)\n",
      "(8, 9, 11)\n",
      "(8, 9, 12)\n",
      "(8, 9, 13)\n",
      "(8, 9, 14)\n",
      "(8, 9, 15)\n",
      "(8, 10, 11)\n",
      "(8, 10, 12)\n",
      "(8, 10, 13)\n",
      "(8, 10, 14)\n",
      "(8, 10, 15)\n",
      "(8, 11, 12)\n",
      "(8, 11, 13)\n",
      "(8, 11, 14)\n",
      "(8, 11, 15)\n",
      "(8, 12, 13)\n",
      "(8, 12, 14)\n",
      "(8, 12, 15)\n",
      "(8, 13, 14)\n",
      "(8, 13, 15)\n",
      "(8, 14, 15)\n",
      "(9, 10, 11)\n",
      "(9, 10, 12)\n",
      "(9, 10, 13)\n",
      "(9, 10, 14)\n",
      "(9, 10, 15)\n",
      "(9, 11, 12)\n",
      "(9, 11, 13)\n",
      "(9, 11, 14)\n",
      "(9, 11, 15)\n",
      "(9, 12, 13)\n",
      "(9, 12, 14)\n",
      "(9, 12, 15)\n",
      "(9, 13, 14)\n",
      "(9, 13, 15)\n",
      "(9, 14, 15)\n",
      "(10, 11, 12)\n",
      "(10, 11, 13)\n",
      "(10, 11, 14)\n",
      "(10, 11, 15)\n",
      "(10, 12, 13)\n",
      "(10, 12, 14)\n",
      "(10, 12, 15)\n",
      "(10, 13, 14)\n",
      "(10, 13, 15)\n",
      "(10, 14, 15)\n",
      "(11, 12, 13)\n",
      "(11, 12, 14)\n",
      "(11, 12, 15)\n",
      "(11, 13, 14)\n",
      "(11, 13, 15)\n",
      "(11, 14, 15)\n",
      "(12, 13, 14)\n",
      "(12, 13, 15)\n",
      "(12, 14, 15)\n",
      "(13, 14, 15)\n"
     ]
    }
   ],
   "source": [
    "num_vector = 16\n",
    "search_radius = 3\n",
    "\n",
    "for diff in combinations(range(num_vector), search_radius):\n",
    "    print diff"
   ]
  },
  {
   "cell_type": "markdown",
   "metadata": {},
   "source": [
    "With this output in mind, implement the logic for nearby bin search:"
   ]
  },
  {
   "cell_type": "code",
   "execution_count": 150,
   "metadata": {
    "collapsed": false,
    "scrolled": true
   },
   "outputs": [
    {
     "data": {
      "text/plain": [
       "array([ True,  True, False, False,  True,  True,  True,  True, False,\n",
       "       False, False, False,  True, False,  True,  True], dtype=bool)"
      ]
     },
     "execution_count": 150,
     "metadata": {},
     "output_type": "execute_result"
    }
   ],
   "source": [
    "model['bin_index_bits'][0]"
   ]
  },
  {
   "cell_type": "code",
   "execution_count": 179,
   "metadata": {
    "collapsed": true
   },
   "outputs": [],
   "source": [
    "def search_nearby_bins(query_bin_bits, table, search_radius=2, initial_candidates=set()):\n",
    "    \"\"\"\n",
    "    For a given query vector and trained LSH model, return all candidate neighbors for\n",
    "    the query among all bins within the given search radius.\n",
    "    \n",
    "    Example usage\n",
    "    -------------\n",
    "    >>> model = train_lsh(corpus, num_vector=16, seed=143)\n",
    "    >>> q = model['bin_index_bits'][0]  # vector for the first document\n",
    "  \n",
    "    >>> candidates = search_nearby_bins(q, model['table'])\n",
    "    \"\"\"\n",
    "    num_vector = len(query_bin_bits)\n",
    "    powers_of_two = 1 << np.arange(num_vector-1, -1, -1)\n",
    "    \n",
    "    # Allow the user to provide an initial set of candidates.\n",
    "    candidate_set = copy(initial_candidates)\n",
    "    \n",
    "    for different_bits in combinations(range(num_vector), search_radius):       \n",
    "        # Flip the bits (n_1,n_2,...,n_r) of the query bin to produce a new bit vector.\n",
    "        ## Hint: you can iterate over a tuple like a list\n",
    "        alternate_bits = copy(query_bin_bits)\n",
    "        for i in different_bits:\n",
    "            alternate_bits[i] = not query_bin_bits[i]  # YOUR CODE HERE \n",
    "        \n",
    "        # Convert the new bit vector to an integer index\n",
    "        nearby_bin = alternate_bits.dot(powers_of_two)\n",
    "        \n",
    "        # Fetch the list of documents belonging to the bin indexed by the new bit vector.\n",
    "        # Then add those documents to candidate_set\n",
    "        # Make sure that the bin exists in the table!\n",
    "        # Hint: update() method for sets lets you add an entire list to the set\n",
    "        if nearby_bin in table:\n",
    "            candidate_set.update(table[nearby_bin]) # YOUR CODE HERE: Update candidate_set with the documents in this bin.\n",
    "            \n",
    "    return candidate_set"
   ]
  },
  {
   "cell_type": "markdown",
   "metadata": {},
   "source": [
    "**Checkpoint**. Running the function with `search_radius=0` should yield the list of documents belonging to the same bin as the query."
   ]
  },
  {
   "cell_type": "code",
   "execution_count": 181,
   "metadata": {
    "collapsed": false
   },
   "outputs": [
    {
     "name": "stdout",
     "output_type": "stream",
     "text": [
      "Passed test\n",
      "List of documents in the same bin as Obama: 35817, 21426, 53937, 39426, 50261\n"
     ]
    }
   ],
   "source": [
    "obama_bin_index = model['bin_index_bits'][35817] # bin index of Barack Obama\n",
    "candidate_set = search_nearby_bins(obama_bin_index, model['table'], search_radius=0)\n",
    "if candidate_set == set([35817, 21426, 53937, 39426, 50261]):\n",
    "    print 'Passed test'\n",
    "else:\n",
    "    print 'Check your code'\n",
    "print 'List of documents in the same bin as Obama: 35817, 21426, 53937, 39426, 50261'"
   ]
  },
  {
   "cell_type": "markdown",
   "metadata": {},
   "source": [
    "**Checkpoint**. Running the function with `search_radius=1` adds more documents to the fore."
   ]
  },
  {
   "cell_type": "code",
   "execution_count": 182,
   "metadata": {
    "collapsed": false
   },
   "outputs": [
    {
     "name": "stdout",
     "output_type": "stream",
     "text": [
      "Passed test\n"
     ]
    }
   ],
   "source": [
    "candidate_set = search_nearby_bins(obama_bin_index, model['table'], search_radius=1, initial_candidates=candidate_set)\n",
    "if candidate_set == set([39426, 38155, 38412, 28444, 9757, 41631, 39207, 59050, 47773, 53937, 21426, 34547,\n",
    "                         23229, 55615, 39877, 27404, 33996, 21715, 50261, 21975, 33243, 58723, 35817, 45676,\n",
    "                         19699, 2804, 20347]):\n",
    "    print 'Passed test'\n",
    "else:\n",
    "    print 'Check your code'"
   ]
  },
  {
   "cell_type": "markdown",
   "metadata": {},
   "source": [
    "**Note**. Don't be surprised if few of the candidates look similar to Obama. This is why we add as many candidates as our computational budget allows and sort them by their distance to the query."
   ]
  },
  {
   "cell_type": "markdown",
   "metadata": {},
   "source": [
    "Now we have a function that can return all the candidates from neighboring bins. Next we write a function to collect all candidates and compute their true distance to the query."
   ]
  },
  {
   "cell_type": "code",
   "execution_count": 183,
   "metadata": {
    "collapsed": false,
    "scrolled": true
   },
   "outputs": [],
   "source": [
    "def query(vec, model, k, max_search_radius):\n",
    "  \n",
    "    data = model['data']\n",
    "    table = model['table']\n",
    "    random_vectors = model['random_vectors']\n",
    "    num_vector = random_vectors.shape[1]\n",
    "    \n",
    "    \n",
    "    # Compute bin index for the query vector, in bit representation.\n",
    "    bin_index_bits = (vec.dot(random_vectors) >= 0).flatten()\n",
    "    \n",
    "    # Search nearby bins and collect candidates\n",
    "    candidate_set = set()\n",
    "    for search_radius in xrange(max_search_radius+1):\n",
    "        candidate_set = search_nearby_bins(bin_index_bits, table, search_radius, initial_candidates=candidate_set)\n",
    "    \n",
    "    # Sort candidates by their true distances from the query\n",
    "    nearest_neighbors = graphlab.SFrame({'id':candidate_set})\n",
    "    candidates = data[np.array(list(candidate_set)),:]\n",
    "    nearest_neighbors['distance'] = pairwise_distances(candidates, vec, metric='cosine').flatten()\n",
    "    \n",
    "    return nearest_neighbors.topk('distance', k, reverse=True), len(candidate_set)"
   ]
  },
  {
   "cell_type": "markdown",
   "metadata": {},
   "source": [
    "Let's try it out with Obama:"
   ]
  },
  {
   "cell_type": "code",
   "execution_count": 184,
   "metadata": {
    "collapsed": false
   },
   "outputs": [
    {
     "data": {
      "text/plain": [
       "(Columns:\n",
       " \tid\tint\n",
       " \tdistance\tfloat\n",
       " \n",
       " Rows: 10\n",
       " \n",
       " Data:\n",
       " +-------+--------------------+\n",
       " |   id  |      distance      |\n",
       " +-------+--------------------+\n",
       " | 35817 | -6.66133814775e-16 |\n",
       " | 24478 |   0.703138676734   |\n",
       " | 56008 |   0.856848127628   |\n",
       " | 37199 |   0.874668698194   |\n",
       " | 40353 |   0.890034225981   |\n",
       " |  9267 |   0.898377208819   |\n",
       " | 55909 |   0.899340396322   |\n",
       " |  9165 |   0.900921029925   |\n",
       " | 57958 |   0.903003263483   |\n",
       " | 49872 |   0.909532800353   |\n",
       " +-------+--------------------+\n",
       " [10 rows x 2 columns], 727)"
      ]
     },
     "execution_count": 184,
     "metadata": {},
     "output_type": "execute_result"
    }
   ],
   "source": [
    "query(corpus[35817,:], model, k=10, max_search_radius=3)"
   ]
  },
  {
   "cell_type": "markdown",
   "metadata": {},
   "source": [
    "To identify the documents, it's helpful to join this table with the Wikipedia table:"
   ]
  },
  {
   "cell_type": "code",
   "execution_count": 185,
   "metadata": {
    "collapsed": false
   },
   "outputs": [
    {
     "data": {
      "text/html": [
       "<div style=\"max-height:1000px;max-width:1500px;overflow:auto;\"><table frame=\"box\" rules=\"cols\">\n",
       "    <tr>\n",
       "        <th style=\"padding-left: 1em; padding-right: 1em; text-align: center\">id</th>\n",
       "        <th style=\"padding-left: 1em; padding-right: 1em; text-align: center\">distance</th>\n",
       "        <th style=\"padding-left: 1em; padding-right: 1em; text-align: center\">name</th>\n",
       "    </tr>\n",
       "    <tr>\n",
       "        <td style=\"padding-left: 1em; padding-right: 1em; text-align: center; vertical-align: top\">35817</td>\n",
       "        <td style=\"padding-left: 1em; padding-right: 1em; text-align: center; vertical-align: top\">-6.66133814775e-16</td>\n",
       "        <td style=\"padding-left: 1em; padding-right: 1em; text-align: center; vertical-align: top\">Barack Obama</td>\n",
       "    </tr>\n",
       "    <tr>\n",
       "        <td style=\"padding-left: 1em; padding-right: 1em; text-align: center; vertical-align: top\">24478</td>\n",
       "        <td style=\"padding-left: 1em; padding-right: 1em; text-align: center; vertical-align: top\">0.703138676734</td>\n",
       "        <td style=\"padding-left: 1em; padding-right: 1em; text-align: center; vertical-align: top\">Joe Biden</td>\n",
       "    </tr>\n",
       "    <tr>\n",
       "        <td style=\"padding-left: 1em; padding-right: 1em; text-align: center; vertical-align: top\">56008</td>\n",
       "        <td style=\"padding-left: 1em; padding-right: 1em; text-align: center; vertical-align: top\">0.856848127628</td>\n",
       "        <td style=\"padding-left: 1em; padding-right: 1em; text-align: center; vertical-align: top\">Nathan Cullen</td>\n",
       "    </tr>\n",
       "    <tr>\n",
       "        <td style=\"padding-left: 1em; padding-right: 1em; text-align: center; vertical-align: top\">37199</td>\n",
       "        <td style=\"padding-left: 1em; padding-right: 1em; text-align: center; vertical-align: top\">0.874668698194</td>\n",
       "        <td style=\"padding-left: 1em; padding-right: 1em; text-align: center; vertical-align: top\">Barry Sullivan (lawyer)</td>\n",
       "    </tr>\n",
       "    <tr>\n",
       "        <td style=\"padding-left: 1em; padding-right: 1em; text-align: center; vertical-align: top\">40353</td>\n",
       "        <td style=\"padding-left: 1em; padding-right: 1em; text-align: center; vertical-align: top\">0.890034225981</td>\n",
       "        <td style=\"padding-left: 1em; padding-right: 1em; text-align: center; vertical-align: top\">Neil MacBride</td>\n",
       "    </tr>\n",
       "    <tr>\n",
       "        <td style=\"padding-left: 1em; padding-right: 1em; text-align: center; vertical-align: top\">9267</td>\n",
       "        <td style=\"padding-left: 1em; padding-right: 1em; text-align: center; vertical-align: top\">0.898377208819</td>\n",
       "        <td style=\"padding-left: 1em; padding-right: 1em; text-align: center; vertical-align: top\">Vikramaditya Khanna</td>\n",
       "    </tr>\n",
       "    <tr>\n",
       "        <td style=\"padding-left: 1em; padding-right: 1em; text-align: center; vertical-align: top\">55909</td>\n",
       "        <td style=\"padding-left: 1em; padding-right: 1em; text-align: center; vertical-align: top\">0.899340396322</td>\n",
       "        <td style=\"padding-left: 1em; padding-right: 1em; text-align: center; vertical-align: top\">Herman Cain</td>\n",
       "    </tr>\n",
       "    <tr>\n",
       "        <td style=\"padding-left: 1em; padding-right: 1em; text-align: center; vertical-align: top\">9165</td>\n",
       "        <td style=\"padding-left: 1em; padding-right: 1em; text-align: center; vertical-align: top\">0.900921029925</td>\n",
       "        <td style=\"padding-left: 1em; padding-right: 1em; text-align: center; vertical-align: top\">Raymond F. Clevenger</td>\n",
       "    </tr>\n",
       "    <tr>\n",
       "        <td style=\"padding-left: 1em; padding-right: 1em; text-align: center; vertical-align: top\">57958</td>\n",
       "        <td style=\"padding-left: 1em; padding-right: 1em; text-align: center; vertical-align: top\">0.903003263483</td>\n",
       "        <td style=\"padding-left: 1em; padding-right: 1em; text-align: center; vertical-align: top\">Michael J. Malbin</td>\n",
       "    </tr>\n",
       "    <tr>\n",
       "        <td style=\"padding-left: 1em; padding-right: 1em; text-align: center; vertical-align: top\">49872</td>\n",
       "        <td style=\"padding-left: 1em; padding-right: 1em; text-align: center; vertical-align: top\">0.909532800353</td>\n",
       "        <td style=\"padding-left: 1em; padding-right: 1em; text-align: center; vertical-align: top\">Lowell Barron</td>\n",
       "    </tr>\n",
       "</table>\n",
       "[10 rows x 3 columns]<br/>\n",
       "</div>"
      ],
      "text/plain": [
       "Columns:\n",
       "\tid\tint\n",
       "\tdistance\tfloat\n",
       "\tname\tstr\n",
       "\n",
       "Rows: 10\n",
       "\n",
       "Data:\n",
       "+-------+--------------------+-------------------------+\n",
       "|   id  |      distance      |           name          |\n",
       "+-------+--------------------+-------------------------+\n",
       "| 35817 | -6.66133814775e-16 |       Barack Obama      |\n",
       "| 24478 |   0.703138676734   |        Joe Biden        |\n",
       "| 56008 |   0.856848127628   |      Nathan Cullen      |\n",
       "| 37199 |   0.874668698194   | Barry Sullivan (lawyer) |\n",
       "| 40353 |   0.890034225981   |      Neil MacBride      |\n",
       "|  9267 |   0.898377208819   |   Vikramaditya Khanna   |\n",
       "| 55909 |   0.899340396322   |       Herman Cain       |\n",
       "|  9165 |   0.900921029925   |   Raymond F. Clevenger  |\n",
       "| 57958 |   0.903003263483   |    Michael J. Malbin    |\n",
       "| 49872 |   0.909532800353   |      Lowell Barron      |\n",
       "+-------+--------------------+-------------------------+\n",
       "[10 rows x 3 columns]"
      ]
     },
     "execution_count": 185,
     "metadata": {},
     "output_type": "execute_result"
    }
   ],
   "source": [
    "query(corpus[35817,:], model, k=10, max_search_radius=3)[0].join(wiki[['id', 'name']], on='id').sort('distance')"
   ]
  },
  {
   "cell_type": "markdown",
   "metadata": {},
   "source": [
    "We have shown that we have a working LSH implementation!"
   ]
  },
  {
   "cell_type": "markdown",
   "metadata": {},
   "source": [
    "# Experimenting with your LSH implementation"
   ]
  },
  {
   "cell_type": "markdown",
   "metadata": {},
   "source": [
    "In the following sections we have implemented a few experiments so that you can gain intuition for how your LSH implementation behaves in different situations. This will help you understand the effect of searching nearby bins and the performance of LSH versus computing nearest neighbors using a brute force search."
   ]
  },
  {
   "cell_type": "markdown",
   "metadata": {},
   "source": [
    "## Effect of nearby bin search"
   ]
  },
  {
   "cell_type": "markdown",
   "metadata": {},
   "source": [
    "How does nearby bin search affect the outcome of LSH? There are three variables that are affected by the search radius:\n",
    "* Number of candidate documents considered\n",
    "* Query time\n",
    "* Distance of approximate neighbors from the query"
   ]
  },
  {
   "cell_type": "markdown",
   "metadata": {},
   "source": [
    "Let us run LSH multiple times, each with different radii for nearby bin search. We will measure the three variables as discussed above."
   ]
  },
  {
   "cell_type": "code",
   "execution_count": 186,
   "metadata": {
    "collapsed": false
   },
   "outputs": [
    {
     "data": {
      "text/html": [
       "<div style=\"max-height:1000px;max-width:1500px;overflow:auto;\"><table frame=\"box\" rules=\"cols\">\n",
       "    <tr>\n",
       "        <th style=\"padding-left: 1em; padding-right: 1em; text-align: center\">id</th>\n",
       "        <th style=\"padding-left: 1em; padding-right: 1em; text-align: center\">URI</th>\n",
       "        <th style=\"padding-left: 1em; padding-right: 1em; text-align: center\">name</th>\n",
       "        <th style=\"padding-left: 1em; padding-right: 1em; text-align: center\">text</th>\n",
       "        <th style=\"padding-left: 1em; padding-right: 1em; text-align: center\">tf_idf</th>\n",
       "    </tr>\n",
       "    <tr>\n",
       "        <td style=\"padding-left: 1em; padding-right: 1em; text-align: center; vertical-align: top\">35817</td>\n",
       "        <td style=\"padding-left: 1em; padding-right: 1em; text-align: center; vertical-align: top\">&lt;http://dbpedia.org/resou<br>rce/Barack_Obama&gt; ...</td>\n",
       "        <td style=\"padding-left: 1em; padding-right: 1em; text-align: center; vertical-align: top\">Barack Obama</td>\n",
       "        <td style=\"padding-left: 1em; padding-right: 1em; text-align: center; vertical-align: top\">barack hussein obama ii<br>brk husen bm born august ...</td>\n",
       "        <td style=\"padding-left: 1em; padding-right: 1em; text-align: center; vertical-align: top\">{'operations':<br>3.811771079388818, ...</td>\n",
       "    </tr>\n",
       "</table>\n",
       "[? rows x 5 columns]<br/>Note: Only the head of the SFrame is printed. This SFrame is lazily evaluated.<br/>You can use sf.materialize() to force materialization.\n",
       "</div>"
      ],
      "text/plain": [
       "Columns:\n",
       "\tid\tint\n",
       "\tURI\tstr\n",
       "\tname\tstr\n",
       "\ttext\tstr\n",
       "\ttf_idf\tdict\n",
       "\n",
       "Rows: Unknown\n",
       "\n",
       "Data:\n",
       "+-------+-------------------------------+--------------+\n",
       "|   id  |              URI              |     name     |\n",
       "+-------+-------------------------------+--------------+\n",
       "| 35817 | <http://dbpedia.org/resour... | Barack Obama |\n",
       "+-------+-------------------------------+--------------+\n",
       "+-------------------------------+-------------------------------+\n",
       "|              text             |             tf_idf            |\n",
       "+-------------------------------+-------------------------------+\n",
       "| barack hussein obama ii br... | {'operations': 3.811771079... |\n",
       "+-------------------------------+-------------------------------+\n",
       "[? rows x 5 columns]\n",
       "Note: Only the head of the SFrame is printed. This SFrame is lazily evaluated.\n",
       "You can use sf.materialize() to force materialization."
      ]
     },
     "execution_count": 186,
     "metadata": {},
     "output_type": "execute_result"
    }
   ],
   "source": [
    "wiki[wiki['name']=='Barack Obama']"
   ]
  },
  {
   "cell_type": "code",
   "execution_count": 187,
   "metadata": {
    "collapsed": false,
    "scrolled": true
   },
   "outputs": [
    {
     "name": "stdout",
     "output_type": "stream",
     "text": [
      "Radius: 0\n",
      "+-------+--------------------+-------------------------+\n",
      "|   id  |      distance      |           name          |\n",
      "+-------+--------------------+-------------------------+\n",
      "| 35817 | -6.66133814775e-16 |       Barack Obama      |\n",
      "| 21426 |   0.950866757525   |      Mark Boulware      |\n",
      "| 39426 |   0.97596600411    | John Wells (politician) |\n",
      "| 50261 |   0.978256163041   |    Francis Longstaff    |\n",
      "| 53937 |   0.993092148424   |  Madurai T. Srinivasan  |\n",
      "+-------+--------------------+-------------------------+\n",
      "[5 rows x 3 columns]\n",
      "\n",
      "Radius: 1\n",
      "+-------+--------------------+-------------------------------+\n",
      "|   id  |      distance      |              name             |\n",
      "+-------+--------------------+-------------------------------+\n",
      "| 35817 | -6.66133814775e-16 |          Barack Obama         |\n",
      "| 41631 |   0.947459482005   |          Binayak Sen          |\n",
      "| 21426 |   0.950866757525   |         Mark Boulware         |\n",
      "| 33243 |   0.951765770113   |        Janice Lachance        |\n",
      "| 33996 |   0.960859054157   |          Rufus Black          |\n",
      "| 28444 |   0.961080585824   |        John Paul Phelan       |\n",
      "| 20347 |   0.974129605472   |        Gianni De Fraja        |\n",
      "| 39426 |   0.97596600411    |    John Wells (politician)    |\n",
      "| 34547 |   0.978214931987   | Nathan Murphy (Australian ... |\n",
      "| 50261 |   0.978256163041   |       Francis Longstaff       |\n",
      "+-------+--------------------+-------------------------------+\n",
      "[10 rows x 3 columns]\n",
      "\n",
      "Radius: 2\n",
      "+-------+--------------------+---------------------+\n",
      "|   id  |      distance      |         name        |\n",
      "+-------+--------------------+---------------------+\n",
      "| 35817 | -6.66133814775e-16 |     Barack Obama    |\n",
      "| 24478 |   0.703138676734   |      Joe Biden      |\n",
      "|  9267 |   0.898377208819   | Vikramaditya Khanna |\n",
      "| 55909 |   0.899340396322   |     Herman Cain     |\n",
      "|  6949 |   0.925713001103   |  Harrison J. Goldin |\n",
      "| 23524 |   0.926397988994   |    Paul Bennecke    |\n",
      "|  5823 |   0.928498260316   |    Adeleke Mamora   |\n",
      "| 37262 |   0.93445433211    |      Becky Cain     |\n",
      "| 10121 |   0.936896394645   |     Bill Bradley    |\n",
      "| 54782 |   0.937809202206   |  Thomas F. Hartnett |\n",
      "+-------+--------------------+---------------------+\n",
      "[10 rows x 3 columns]\n",
      "\n",
      "Radius: 3\n",
      "+-------+--------------------+-------------------------+\n",
      "|   id  |      distance      |           name          |\n",
      "+-------+--------------------+-------------------------+\n",
      "| 35817 | -6.66133814775e-16 |       Barack Obama      |\n",
      "| 24478 |   0.703138676734   |        Joe Biden        |\n",
      "| 56008 |   0.856848127628   |      Nathan Cullen      |\n",
      "| 37199 |   0.874668698194   | Barry Sullivan (lawyer) |\n",
      "| 40353 |   0.890034225981   |      Neil MacBride      |\n",
      "|  9267 |   0.898377208819   |   Vikramaditya Khanna   |\n",
      "| 55909 |   0.899340396322   |       Herman Cain       |\n",
      "|  9165 |   0.900921029925   |   Raymond F. Clevenger  |\n",
      "| 57958 |   0.903003263483   |    Michael J. Malbin    |\n",
      "| 49872 |   0.909532800353   |      Lowell Barron      |\n",
      "+-------+--------------------+-------------------------+\n",
      "[10 rows x 3 columns]\n",
      "\n",
      "Radius: 4\n",
      "+-------+--------------------+--------------------+\n",
      "|   id  |      distance      |        name        |\n",
      "+-------+--------------------+--------------------+\n",
      "| 35817 | -6.66133814775e-16 |    Barack Obama    |\n",
      "| 24478 |   0.703138676734   |     Joe Biden      |\n",
      "| 36452 |   0.833985493688   |    Bill Clinton    |\n",
      "| 24848 |   0.839406735668   |  John C. Eastman   |\n",
      "| 43155 |   0.840839007484   |    Goodwin Liu     |\n",
      "| 42965 |   0.849077676943   |  John O. Brennan   |\n",
      "| 56008 |   0.856848127628   |   Nathan Cullen    |\n",
      "| 38495 |   0.857573828556   |    Barney Frank    |\n",
      "| 18752 |   0.858899032522   |   Dan W. Reicher   |\n",
      "|  2092 |   0.874643264756   | Richard Blumenthal |\n",
      "+-------+--------------------+--------------------+\n",
      "[10 rows x 3 columns]\n",
      "\n",
      "Radius: 5\n",
      "+-------+--------------------+-------------------------+\n",
      "|   id  |      distance      |           name          |\n",
      "+-------+--------------------+-------------------------+\n",
      "| 35817 | -6.66133814775e-16 |       Barack Obama      |\n",
      "| 24478 |   0.703138676734   |        Joe Biden        |\n",
      "| 38714 |   0.770561227601   | Eric Stern (politician) |\n",
      "| 46811 |   0.800197384104   |      Jeff Sessions      |\n",
      "| 14754 |   0.826854025897   |       Mitt Romney       |\n",
      "| 36452 |   0.833985493688   |       Bill Clinton      |\n",
      "| 40943 |   0.834534928232   |      Jonathan Alter     |\n",
      "| 55044 |   0.837013236281   |       Wesley Clark      |\n",
      "| 24848 |   0.839406735668   |     John C. Eastman     |\n",
      "| 43155 |   0.840839007484   |       Goodwin Liu       |\n",
      "+-------+--------------------+-------------------------+\n",
      "[10 rows x 3 columns]\n",
      "\n",
      "Radius: 6\n",
      "+-------+--------------------+-------------------------+\n",
      "|   id  |      distance      |           name          |\n",
      "+-------+--------------------+-------------------------+\n",
      "| 35817 | -6.66133814775e-16 |       Barack Obama      |\n",
      "| 24478 |   0.703138676734   |        Joe Biden        |\n",
      "| 38714 |   0.770561227601   | Eric Stern (politician) |\n",
      "| 44681 |   0.790926415366   |  Jesse Lee (politician) |\n",
      "| 46811 |   0.800197384104   |      Jeff Sessions      |\n",
      "| 48693 |   0.809192212293   |       Artur Davis       |\n",
      "| 23737 |   0.810164633465   |    John D. McCormick    |\n",
      "|  4032 |   0.814554748671   |   Kenneth D. Thompson   |\n",
      "| 28447 |   0.823228984384   |      George W. Bush     |\n",
      "| 14754 |   0.826854025897   |       Mitt Romney       |\n",
      "+-------+--------------------+-------------------------+\n",
      "[10 rows x 3 columns]\n",
      "\n",
      "Radius: 7\n",
      "+-------+--------------------+-------------------------+\n",
      "|   id  |      distance      |           name          |\n",
      "+-------+--------------------+-------------------------+\n",
      "| 35817 | -6.66133814775e-16 |       Barack Obama      |\n",
      "| 24478 |   0.703138676734   |        Joe Biden        |\n",
      "| 38376 |   0.742981902328   |      Samantha Power     |\n",
      "| 57108 |   0.758358397887   |  Hillary Rodham Clinton |\n",
      "| 38714 |   0.770561227601   | Eric Stern (politician) |\n",
      "| 44681 |   0.790926415366   |  Jesse Lee (politician) |\n",
      "| 18827 |   0.798322602893   |       Henry Waxman      |\n",
      "| 46811 |   0.800197384104   |      Jeff Sessions      |\n",
      "| 48693 |   0.809192212293   |       Artur Davis       |\n",
      "| 23737 |   0.810164633465   |    John D. McCormick    |\n",
      "+-------+--------------------+-------------------------+\n",
      "[10 rows x 3 columns]\n",
      "\n",
      "Radius: 8\n",
      "+-------+--------------------+-------------------------+\n",
      "|   id  |      distance      |           name          |\n",
      "+-------+--------------------+-------------------------+\n",
      "| 35817 | -6.66133814775e-16 |       Barack Obama      |\n",
      "| 24478 |   0.703138676734   |        Joe Biden        |\n",
      "| 38376 |   0.742981902328   |      Samantha Power     |\n",
      "| 57108 |   0.758358397887   |  Hillary Rodham Clinton |\n",
      "| 38714 |   0.770561227601   | Eric Stern (politician) |\n",
      "| 44681 |   0.790926415366   |  Jesse Lee (politician) |\n",
      "| 18827 |   0.798322602893   |       Henry Waxman      |\n",
      "| 46811 |   0.800197384104   |      Jeff Sessions      |\n",
      "| 48693 |   0.809192212293   |       Artur Davis       |\n",
      "| 23737 |   0.810164633465   |    John D. McCormick    |\n",
      "+-------+--------------------+-------------------------+\n",
      "[10 rows x 3 columns]\n",
      "\n",
      "Radius: 9\n",
      "+-------+--------------------+-------------------------+\n",
      "|   id  |      distance      |           name          |\n",
      "+-------+--------------------+-------------------------+\n",
      "| 35817 | -6.66133814775e-16 |       Barack Obama      |\n",
      "| 24478 |   0.703138676734   |        Joe Biden        |\n",
      "| 38376 |   0.742981902328   |      Samantha Power     |\n",
      "| 57108 |   0.758358397887   |  Hillary Rodham Clinton |\n",
      "| 38714 |   0.770561227601   | Eric Stern (politician) |\n",
      "| 46140 |   0.784677504751   |       Robert Gibbs      |\n",
      "| 44681 |   0.790926415366   |  Jesse Lee (politician) |\n",
      "| 18827 |   0.798322602893   |       Henry Waxman      |\n",
      "| 46811 |   0.800197384104   |      Jeff Sessions      |\n",
      "| 39357 |   0.809050776238   |       John McCain       |\n",
      "+-------+--------------------+-------------------------+\n",
      "[10 rows x 3 columns]\n",
      "\n",
      "Radius: 10\n",
      "+-------+--------------------+-------------------------+\n",
      "|   id  |      distance      |           name          |\n",
      "+-------+--------------------+-------------------------+\n",
      "| 35817 | -6.66133814775e-16 |       Barack Obama      |\n",
      "| 24478 |   0.703138676734   |        Joe Biden        |\n",
      "| 38376 |   0.742981902328   |      Samantha Power     |\n",
      "| 57108 |   0.758358397887   |  Hillary Rodham Clinton |\n",
      "| 38714 |   0.770561227601   | Eric Stern (politician) |\n",
      "| 46140 |   0.784677504751   |       Robert Gibbs      |\n",
      "| 44681 |   0.790926415366   |  Jesse Lee (politician) |\n",
      "| 18827 |   0.798322602893   |       Henry Waxman      |\n",
      "|  2412 |   0.799466360042   |     Joe the Plumber     |\n",
      "| 46811 |   0.800197384104   |      Jeff Sessions      |\n",
      "+-------+--------------------+-------------------------+\n",
      "[10 rows x 3 columns]\n",
      "\n",
      "Radius: 11\n",
      "+-------+--------------------+-------------------------+\n",
      "|   id  |      distance      |           name          |\n",
      "+-------+--------------------+-------------------------+\n",
      "| 35817 | -6.66133814775e-16 |       Barack Obama      |\n",
      "| 24478 |   0.703138676734   |        Joe Biden        |\n",
      "| 38376 |   0.742981902328   |      Samantha Power     |\n",
      "| 57108 |   0.758358397887   |  Hillary Rodham Clinton |\n",
      "| 38714 |   0.770561227601   | Eric Stern (politician) |\n",
      "| 46140 |   0.784677504751   |       Robert Gibbs      |\n",
      "| 44681 |   0.790926415366   |  Jesse Lee (politician) |\n",
      "| 18827 |   0.798322602893   |       Henry Waxman      |\n",
      "|  2412 |   0.799466360042   |     Joe the Plumber     |\n",
      "| 46811 |   0.800197384104   |      Jeff Sessions      |\n",
      "+-------+--------------------+-------------------------+\n",
      "[10 rows x 3 columns]\n",
      "\n",
      "Radius: 12\n",
      "+-------+--------------------+-------------------------+\n",
      "|   id  |      distance      |           name          |\n",
      "+-------+--------------------+-------------------------+\n",
      "| 35817 | -6.66133814775e-16 |       Barack Obama      |\n",
      "| 24478 |   0.703138676734   |        Joe Biden        |\n",
      "| 38376 |   0.742981902328   |      Samantha Power     |\n",
      "| 57108 |   0.758358397887   |  Hillary Rodham Clinton |\n",
      "| 38714 |   0.770561227601   | Eric Stern (politician) |\n",
      "| 46140 |   0.784677504751   |       Robert Gibbs      |\n",
      "|  6796 |   0.788039072943   |       Eric Holder       |\n",
      "| 44681 |   0.790926415366   |  Jesse Lee (politician) |\n",
      "| 18827 |   0.798322602893   |       Henry Waxman      |\n",
      "|  2412 |   0.799466360042   |     Joe the Plumber     |\n",
      "+-------+--------------------+-------------------------+\n",
      "[10 rows x 3 columns]\n",
      "\n",
      "Radius: 13\n",
      "+-------+--------------------+-------------------------+\n",
      "|   id  |      distance      |           name          |\n",
      "+-------+--------------------+-------------------------+\n",
      "| 35817 | -6.66133814775e-16 |       Barack Obama      |\n",
      "| 24478 |   0.703138676734   |        Joe Biden        |\n",
      "| 38376 |   0.742981902328   |      Samantha Power     |\n",
      "| 57108 |   0.758358397887   |  Hillary Rodham Clinton |\n",
      "| 38714 |   0.770561227601   | Eric Stern (politician) |\n",
      "| 46140 |   0.784677504751   |       Robert Gibbs      |\n",
      "|  6796 |   0.788039072943   |       Eric Holder       |\n",
      "| 44681 |   0.790926415366   |  Jesse Lee (politician) |\n",
      "| 18827 |   0.798322602893   |       Henry Waxman      |\n",
      "|  2412 |   0.799466360042   |     Joe the Plumber     |\n",
      "+-------+--------------------+-------------------------+\n",
      "[10 rows x 3 columns]\n",
      "\n",
      "Radius: 14\n",
      "+-------+--------------------+-------------------------+\n",
      "|   id  |      distance      |           name          |\n",
      "+-------+--------------------+-------------------------+\n",
      "| 35817 | -6.66133814775e-16 |       Barack Obama      |\n",
      "| 24478 |   0.703138676734   |        Joe Biden        |\n",
      "| 38376 |   0.742981902328   |      Samantha Power     |\n",
      "| 57108 |   0.758358397887   |  Hillary Rodham Clinton |\n",
      "| 38714 |   0.770561227601   | Eric Stern (politician) |\n",
      "| 46140 |   0.784677504751   |       Robert Gibbs      |\n",
      "|  6796 |   0.788039072943   |       Eric Holder       |\n",
      "| 44681 |   0.790926415366   |  Jesse Lee (politician) |\n",
      "| 18827 |   0.798322602893   |       Henry Waxman      |\n",
      "|  2412 |   0.799466360042   |     Joe the Plumber     |\n",
      "+-------+--------------------+-------------------------+\n",
      "[10 rows x 3 columns]\n",
      "\n",
      "Radius: 15\n",
      "+-------+--------------------+-------------------------+\n",
      "|   id  |      distance      |           name          |\n",
      "+-------+--------------------+-------------------------+\n",
      "| 35817 | -6.66133814775e-16 |       Barack Obama      |\n",
      "| 24478 |   0.703138676734   |        Joe Biden        |\n",
      "| 38376 |   0.742981902328   |      Samantha Power     |\n",
      "| 57108 |   0.758358397887   |  Hillary Rodham Clinton |\n",
      "| 38714 |   0.770561227601   | Eric Stern (politician) |\n",
      "| 46140 |   0.784677504751   |       Robert Gibbs      |\n",
      "|  6796 |   0.788039072943   |       Eric Holder       |\n",
      "| 44681 |   0.790926415366   |  Jesse Lee (politician) |\n",
      "| 18827 |   0.798322602893   |       Henry Waxman      |\n",
      "|  2412 |   0.799466360042   |     Joe the Plumber     |\n",
      "+-------+--------------------+-------------------------+\n",
      "[10 rows x 3 columns]\n",
      "\n",
      "Radius: 16\n",
      "+-------+--------------------+-------------------------+\n",
      "|   id  |      distance      |           name          |\n",
      "+-------+--------------------+-------------------------+\n",
      "| 35817 | -6.66133814775e-16 |       Barack Obama      |\n",
      "| 24478 |   0.703138676734   |        Joe Biden        |\n",
      "| 38376 |   0.742981902328   |      Samantha Power     |\n",
      "| 57108 |   0.758358397887   |  Hillary Rodham Clinton |\n",
      "| 38714 |   0.770561227601   | Eric Stern (politician) |\n",
      "| 46140 |   0.784677504751   |       Robert Gibbs      |\n",
      "|  6796 |   0.788039072943   |       Eric Holder       |\n",
      "| 44681 |   0.790926415366   |  Jesse Lee (politician) |\n",
      "| 18827 |   0.798322602893   |       Henry Waxman      |\n",
      "|  2412 |   0.799466360042   |     Joe the Plumber     |\n",
      "+-------+--------------------+-------------------------+\n",
      "[10 rows x 3 columns]\n",
      "\n"
     ]
    }
   ],
   "source": [
    "num_candidates_history = []\n",
    "query_time_history = []\n",
    "max_distance_from_query_history = []\n",
    "min_distance_from_query_history = []\n",
    "average_distance_from_query_history = []\n",
    "\n",
    "for max_search_radius in xrange(17):\n",
    "    start=time.time()\n",
    "    result, num_candidates = query(corpus[35817,:], model, k=10,\n",
    "                                   max_search_radius=max_search_radius)\n",
    "    end=time.time()\n",
    "    query_time = end-start\n",
    "    \n",
    "    print 'Radius:', max_search_radius\n",
    "    print result.join(wiki[['id', 'name']], on='id').sort('distance')\n",
    "    \n",
    "    average_distance_from_query = result['distance'][1:].mean()\n",
    "    max_distance_from_query = result['distance'][1:].max()\n",
    "    min_distance_from_query = result['distance'][1:].min()\n",
    "    \n",
    "    num_candidates_history.append(num_candidates)\n",
    "    query_time_history.append(query_time)\n",
    "    average_distance_from_query_history.append(average_distance_from_query)\n",
    "    max_distance_from_query_history.append(max_distance_from_query)\n",
    "    min_distance_from_query_history.append(min_distance_from_query)"
   ]
  },
  {
   "cell_type": "markdown",
   "metadata": {},
   "source": [
    "Notice that the top 10 query results become more relevant as the search radius grows. Let's plot the three variables:"
   ]
  },
  {
   "cell_type": "code",
   "execution_count": 188,
   "metadata": {
    "collapsed": false
   },
   "outputs": [
    {
     "data": {
      "image/png": "[encoded data removed]",
      "text/plain": [
       "<matplotlib.figure.Figure at 0x120258b90>"
      ]
     },
     "metadata": {},
     "output_type": "display_data"
    },
    {
     "data": {
      "image/png": "[encoded data removed]",
      "text/plain": [
       "<matplotlib.figure.Figure at 0x1236b4ad0>"
      ]
     },
     "metadata": {},
     "output_type": "display_data"
    },
    {
     "data": {
      "image/png": "[encoded data removed]",
      "text/plain": [
       "<matplotlib.figure.Figure at 0x120d60410>"
      ]
     },
     "metadata": {},
     "output_type": "display_data"
    }
   ],
   "source": [
    "plt.figure(figsize=(7,4.5))\n",
    "plt.plot(num_candidates_history, linewidth=4)\n",
    "plt.xlabel('Search radius')\n",
    "plt.ylabel('# of documents searched')\n",
    "plt.rcParams.update({'font.size':16})\n",
    "plt.tight_layout()\n",
    "\n",
    "plt.figure(figsize=(7,4.5))\n",
    "plt.plot(query_time_history, linewidth=4)\n",
    "plt.xlabel('Search radius')\n",
    "plt.ylabel('Query time (seconds)')\n",
    "plt.rcParams.update({'font.size':16})\n",
    "plt.tight_layout()\n",
    "\n",
    "plt.figure(figsize=(7,4.5))\n",
    "plt.plot(average_distance_from_query_history, linewidth=4, label='Average of 10 neighbors')\n",
    "plt.plot(max_distance_from_query_history, linewidth=4, label='Farthest of 10 neighbors')\n",
    "plt.plot(min_distance_from_query_history, linewidth=4, label='Closest of 10 neighbors')\n",
    "plt.xlabel('Search radius')\n",
    "plt.ylabel('Cosine distance of neighbors')\n",
    "plt.legend(loc='best', prop={'size':15})\n",
    "plt.rcParams.update({'font.size':16})\n",
    "plt.tight_layout()"
   ]
  },
  {
   "cell_type": "markdown",
   "metadata": {},
   "source": [
    "Some observations:\n",
    "* As we increase the search radius, we find more neighbors that are a smaller distance away.\n",
    "* With increased search radius comes a greater number documents that have to be searched. Query time is higher as a consequence.\n",
    "* With sufficiently high search radius, the results of LSH begin to resemble the results of brute-force search."
   ]
  },
  {
   "cell_type": "markdown",
   "metadata": {},
   "source": [
    "**Quiz Question**. What was the smallest search radius that yielded the correct nearest neighbor, namely Joe Biden?\n",
    "\n",
    "\n",
    "**Quiz Question**. Suppose our goal was to produce 10 approximate nearest neighbors whose average distance from the query document is within 0.01 of the average for the true 10 nearest neighbors. For Barack Obama, the true 10 nearest neighbors are on average about 0.77. What was the smallest search radius for Barack Obama that produced an average distance of 0.78 or better?"
   ]
  },
  {
   "cell_type": "code",
   "execution_count": 197,
   "metadata": {
    "collapsed": false
   },
   "outputs": [
    {
     "name": "stdout",
     "output_type": "stream",
     "text": [
      "7\n"
     ]
    }
   ],
   "source": [
    "avg_dist = np.array(average_distance_from_query_history)\n",
    "am = np.argmin(avg_dist>=0.78)\n",
    "print am"
   ]
  },
  {
   "cell_type": "code",
   "execution_count": 198,
   "metadata": {
    "collapsed": false
   },
   "outputs": [
    {
     "data": {
      "text/plain": [
       "7"
      ]
     },
     "execution_count": 198,
     "metadata": {},
     "output_type": "execute_result"
    }
   ],
   "source": [
    "a = range(17)\n",
    "a[am]"
   ]
  },
  {
   "cell_type": "markdown",
   "metadata": {},
   "source": [
    "## Quality metrics for neighbors"
   ]
  },
  {
   "cell_type": "markdown",
   "metadata": {},
   "source": [
    "The above analysis is limited by the fact that it was run with a single query, namely Barack Obama. We should repeat the analysis for the entirety of data. Iterating over all documents would take a long time, so let us randomly choose 10 documents for our analysis.\n",
    "\n",
    "For each document, we first compute the true 25 nearest neighbors, and then run LSH multiple times. We look at two metrics:\n",
    "\n",
    "* Precision@10: How many of the 10 neighbors given by LSH are among the true 25 nearest neighbors?\n",
    "* Average cosine distance of the neighbors from the query\n",
    "\n",
    "Then we run LSH multiple times with different search radii."
   ]
  },
  {
   "cell_type": "code",
   "execution_count": 200,
   "metadata": {
    "collapsed": true
   },
   "outputs": [],
   "source": [
    "def brute_force_query(vec, data, k):\n",
    "    num_data_points = data.shape[0]\n",
    "    \n",
    "    # Compute distances for ALL data points in training set\n",
    "    nearest_neighbors = graphlab.SFrame({'id':range(num_data_points)})\n",
    "    nearest_neighbors['distance'] = pairwise_distances(data, vec, metric='cosine').flatten()\n",
    "    \n",
    "    return nearest_neighbors.topk('distance', k, reverse=True)"
   ]
  },
  {
   "cell_type": "markdown",
   "metadata": {},
   "source": [
    "The following cell will run LSH with multiple search radii and compute the quality metrics for each run. Allow a few minutes to complete."
   ]
  },
  {
   "cell_type": "code",
   "execution_count": 201,
   "metadata": {
    "collapsed": false
   },
   "outputs": [
    {
     "name": "stdout",
     "output_type": "stream",
     "text": [
      "0 / 10\n",
      "1 / 10\n",
      "2 / 10\n",
      "3 / 10\n",
      "4 / 10\n",
      "5 / 10\n",
      "6 / 10\n",
      "7 / 10\n",
      "8 / 10\n",
      "9 / 10\n"
     ]
    }
   ],
   "source": [
    "max_radius = 17\n",
    "precision = {i:[] for i in xrange(max_radius)}\n",
    "average_distance  = {i:[] for i in xrange(max_radius)}\n",
    "query_time  = {i:[] for i in xrange(max_radius)}\n",
    "\n",
    "np.random.seed(0)\n",
    "num_queries = 10\n",
    "for i, ix in enumerate(np.random.choice(corpus.shape[0], num_queries, replace=False)):\n",
    "    print('%s / %s' % (i, num_queries))\n",
    "    ground_truth = set(brute_force_query(corpus[ix,:], corpus, k=25)['id'])\n",
    "    # Get the set of 25 true nearest neighbors\n",
    "    \n",
    "    for r in xrange(1,max_radius):\n",
    "        start = time.time()\n",
    "        result, num_candidates = query(corpus[ix,:], model, k=10, max_search_radius=r)\n",
    "        end = time.time()\n",
    "\n",
    "        query_time[r].append(end-start)\n",
    "        # precision = (# of neighbors both in result and ground_truth)/10.0\n",
    "        precision[r].append(len(set(result['id']) & ground_truth)/10.0)\n",
    "        average_distance[r].append(result['distance'][1:].mean())"
   ]
  },
  {
   "cell_type": "code",
   "execution_count": 202,
   "metadata": {
    "collapsed": false
   },
   "outputs": [
    {
     "data": {
      "image/png": "[encoded data removed]",
      "text/plain": [
       "<matplotlib.figure.Figure at 0x1216e9510>"
      ]
     },
     "metadata": {},
     "output_type": "display_data"
    },
    {
     "data": {
      "image/png": "[encoded data removed]",
      "text/plain": [
       "<matplotlib.figure.Figure at 0x121c61790>"
      ]
     },
     "metadata": {},
     "output_type": "display_data"
    },
    {
     "data": {
      "image/png": "[encoded data removed]",
      "text/plain": [
       "<matplotlib.figure.Figure at 0x121c99ed0>"
      ]
     },
     "metadata": {},
     "output_type": "display_data"
    }
   ],
   "source": [
    "plt.figure(figsize=(7,4.5))\n",
    "plt.plot(range(1,17), [np.mean(average_distance[i]) for i in xrange(1,17)], linewidth=4, label='Average over 10 neighbors')\n",
    "plt.xlabel('Search radius')\n",
    "plt.ylabel('Cosine distance')\n",
    "plt.legend(loc='best', prop={'size':15})\n",
    "plt.rcParams.update({'font.size':16})\n",
    "plt.tight_layout()\n",
    "\n",
    "plt.figure(figsize=(7,4.5))\n",
    "plt.plot(range(1,17), [np.mean(precision[i]) for i in xrange(1,17)], linewidth=4, label='Precison@10')\n",
    "plt.xlabel('Search radius')\n",
    "plt.ylabel('Precision')\n",
    "plt.legend(loc='best', prop={'size':15})\n",
    "plt.rcParams.update({'font.size':16})\n",
    "plt.tight_layout()\n",
    "\n",
    "plt.figure(figsize=(7,4.5))\n",
    "plt.plot(range(1,17), [np.mean(query_time[i]) for i in xrange(1,17)], linewidth=4, label='Query time')\n",
    "plt.xlabel('Search radius')\n",
    "plt.ylabel('Query time (seconds)')\n",
    "plt.legend(loc='best', prop={'size':15})\n",
    "plt.rcParams.update({'font.size':16})\n",
    "plt.tight_layout()"
   ]
  },
  {
   "cell_type": "markdown",
   "metadata": {},
   "source": [
    "The observations for Barack Obama generalize to the entire dataset."
   ]
  },
  {
   "cell_type": "markdown",
   "metadata": {},
   "source": [
    "## Effect of number of random vectors"
   ]
  },
  {
   "cell_type": "markdown",
   "metadata": {},
   "source": [
    "Let us now turn our focus to the remaining parameter: the number of random vectors. We run LSH with different number of random vectors, ranging from 5 to 20. We fix the search radius to 3.\n",
    "\n",
    "Allow a few minutes for the following cell to complete."
   ]
  },
  {
   "cell_type": "code",
   "execution_count": 203,
   "metadata": {
    "collapsed": false
   },
   "outputs": [
    {
     "name": "stdout",
     "output_type": "stream",
     "text": [
      "num_vector = 5\n",
      "num_vector = 6\n",
      "num_vector = 7\n",
      "num_vector = 8\n",
      "num_vector = 9\n",
      "num_vector = 10\n",
      "num_vector = 11\n",
      "num_vector = 12\n",
      "num_vector = 13\n",
      "num_vector = 14\n",
      "num_vector = 15\n",
      "num_vector = 16\n",
      "num_vector = 17\n",
      "num_vector = 18\n",
      "num_vector = 19\n"
     ]
    }
   ],
   "source": [
    "precision = {i:[] for i in xrange(5,20)}\n",
    "average_distance  = {i:[] for i in xrange(5,20)}\n",
    "query_time = {i:[] for i in xrange(5,20)}\n",
    "num_candidates_history = {i:[] for i in xrange(5,20)}\n",
    "ground_truth = {}\n",
    "\n",
    "np.random.seed(0)\n",
    "num_queries = 10\n",
    "docs = np.random.choice(corpus.shape[0], num_queries, replace=False)\n",
    "\n",
    "for i, ix in enumerate(docs):\n",
    "    ground_truth[ix] = set(brute_force_query(corpus[ix,:], corpus, k=25)['id'])\n",
    "    # Get the set of 25 true nearest neighbors\n",
    "\n",
    "for num_vector in xrange(5,20):\n",
    "    print('num_vector = %s' % (num_vector))\n",
    "    model = train_lsh(corpus, num_vector, seed=143)\n",
    "    \n",
    "    for i, ix in enumerate(docs):\n",
    "        start = time.time()\n",
    "        result, num_candidates = query(corpus[ix,:], model, k=10, max_search_radius=3)\n",
    "        end = time.time()\n",
    "        \n",
    "        query_time[num_vector].append(end-start)\n",
    "        precision[num_vector].append(len(set(result['id']) & ground_truth[ix])/10.0)\n",
    "        average_distance[num_vector].append(result['distance'][1:].mean())\n",
    "        num_candidates_history[num_vector].append(num_candidates)"
   ]
  },
  {
   "cell_type": "code",
   "execution_count": 204,
   "metadata": {
    "collapsed": false
   },
   "outputs": [
    {
     "data": {
      "image/png": "[encoded data removed]",
      "text/plain": [
       "<matplotlib.figure.Figure at 0x121eba490>"
      ]
     },
     "metadata": {},
     "output_type": "display_data"
    },
    {
     "data": {
      "image/png": "[encoded data removed]",
      "text/plain": [
       "<matplotlib.figure.Figure at 0x121dc7210>"
      ]
     },
     "metadata": {},
     "output_type": "display_data"
    },
    {
     "data": {
      "image/png": "[encoded data removed]",
      "text/plain": [
       "<matplotlib.figure.Figure at 0x121e430d0>"
      ]
     },
     "metadata": {},
     "output_type": "display_data"
    },
    {
     "data": {
      "image/png": "[encoded data removed]",
      "text/plain": [
       "<matplotlib.figure.Figure at 0x121458610>"
      ]
     },
     "metadata": {},
     "output_type": "display_data"
    }
   ],
   "source": [
    "plt.figure(figsize=(7,4.5))\n",
    "plt.plot(range(5,20), [np.mean(average_distance[i]) for i in xrange(5,20)], linewidth=4, label='Average over 10 neighbors')\n",
    "plt.xlabel('# of random vectors')\n",
    "plt.ylabel('Cosine distance')\n",
    "plt.legend(loc='best', prop={'size':15})\n",
    "plt.rcParams.update({'font.size':16})\n",
    "plt.tight_layout()\n",
    "\n",
    "plt.figure(figsize=(7,4.5))\n",
    "plt.plot(range(5,20), [np.mean(precision[i]) for i in xrange(5,20)], linewidth=4, label='Precison@10')\n",
    "plt.xlabel('# of random vectors')\n",
    "plt.ylabel('Precision')\n",
    "plt.legend(loc='best', prop={'size':15})\n",
    "plt.rcParams.update({'font.size':16})\n",
    "plt.tight_layout()\n",
    "\n",
    "plt.figure(figsize=(7,4.5))\n",
    "plt.plot(range(5,20), [np.mean(query_time[i]) for i in xrange(5,20)], linewidth=4, label='Query time (seconds)')\n",
    "plt.xlabel('# of random vectors')\n",
    "plt.ylabel('Query time (seconds)')\n",
    "plt.legend(loc='best', prop={'size':15})\n",
    "plt.rcParams.update({'font.size':16})\n",
    "plt.tight_layout()\n",
    "\n",
    "plt.figure(figsize=(7,4.5))\n",
    "plt.plot(range(5,20), [np.mean(num_candidates_history[i]) for i in xrange(5,20)], linewidth=4,\n",
    "         label='# of documents searched')\n",
    "plt.xlabel('# of random vectors')\n",
    "plt.ylabel('# of documents searched')\n",
    "plt.legend(loc='best', prop={'size':15})\n",
    "plt.rcParams.update({'font.size':16})\n",
    "plt.tight_layout()"
   ]
  },
  {
   "cell_type": "markdown",
   "metadata": {},
   "source": [
    "We see a similar trade-off between quality and performance: as the number of random vectors increases, the query time goes down as each bin contains fewer documents on average, but on average the neighbors are likewise placed farther from the query. On the other hand, when using a small enough number of random vectors, LSH becomes very similar brute-force search: Many documents appear in a single bin, so searching the query bin alone covers a lot of the corpus; then, including neighboring bins might result in searching all documents, just as in the brute-force approach."
   ]
  }
 ],
 "metadata": {
  "kernelspec": {
   "display_name": "Python 2",
   "language": "python",
   "name": "python2"
  },
  "language_info": {
   "codemirror_mode": {
    "name": "ipython",
    "version": 2
   },
   "file_extension": ".py",
   "mimetype": "text/x-python",
   "name": "python",
   "nbconvert_exporter": "python",
   "pygments_lexer": "ipython2",
   "version": "2.7.11"
  }
 },
 "nbformat": 4,
 "nbformat_minor": 0
}
